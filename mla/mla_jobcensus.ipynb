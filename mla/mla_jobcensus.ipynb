{
 "cells": [
  {
   "cell_type": "markdown",
   "metadata": {},
   "source": [
    "# MLA Joblist Parsing"
   ]
  },
  {
   "cell_type": "code",
   "execution_count": 276,
   "metadata": {},
   "outputs": [],
   "source": [
    "EML_DIR='emls'"
   ]
  },
  {
   "cell_type": "markdown",
   "metadata": {},
   "source": [
    "## Parsing emls"
   ]
  },
  {
   "cell_type": "code",
   "execution_count": 277,
   "metadata": {},
   "outputs": [],
   "source": [
    "from datetime import datetime\n",
    "import os,sys,json,pandas as pd\n",
    "import json\n",
    "import requests,bs4"
   ]
  },
  {
   "cell_type": "code",
   "execution_count": 278,
   "metadata": {},
   "outputs": [],
   "source": [
    "def parse_eml0(fn):\n",
    "    with open(fn, 'rb') as fhdl:\n",
    "        raw_email = fhdl.read()\n",
    "\n",
    "    ep = eml_parser.EmlParser()\n",
    "    parsed_eml = ep.decode_email_bytes(raw_email)\n",
    "    return parsed_eml"
   ]
  },
  {
   "cell_type": "code",
   "execution_count": 279,
   "metadata": {},
   "outputs": [],
   "source": [
    "def parse_eml(fn):\n",
    "    with open(fn) as f: txt=f.read()\n",
    "    body=txt.split('quoted-printable')[-1].split('----boundary')[0].strip()\n",
    "    lines=[l.replace('=\\n','').strip() for l in body.split('=0D=0A')]# if l.strip()]\n",
    "    try:\n",
    "        lines=lines[3:lines.index('Good luck with your job search, From MLA Career Services')]\n",
    "    except ValueError:\n",
    "        return []\n",
    "    \n",
    "    # parse into jobs\n",
    "    body2='\\n'.join(lines).strip()\n",
    "    jobs=[job.split('\\n') for job in body2.split('\\n\\n')]\n",
    "    \n",
    "    return [\n",
    "        {\n",
    "            'title':job[0],\n",
    "            'link':job[1],\n",
    "            'desc':job[2]\n",
    "        }\n",
    "        for job in jobs\n",
    "    ]"
   ]
  },
  {
   "cell_type": "code",
   "execution_count": 280,
   "metadata": {},
   "outputs": [],
   "source": [
    "dat=parse_eml('emls/3 new  jobs.eml[1][1].eml')\n",
    "# dat"
   ]
  },
  {
   "cell_type": "markdown",
   "metadata": {},
   "source": [
    "## Get all"
   ]
  },
  {
   "cell_type": "code",
   "execution_count": 281,
   "metadata": {},
   "outputs": [],
   "source": [
    "jobs=[]\n",
    "for fn in os.listdir(EML_DIR):\n",
    "    jobs+=parse_eml(os.path.join(EML_DIR,fn))"
   ]
  },
  {
   "cell_type": "code",
   "execution_count": 282,
   "metadata": {},
   "outputs": [
    {
     "data": {
      "text/plain": [
       "90"
      ]
     },
     "execution_count": 282,
     "metadata": {},
     "output_type": "execute_result"
    }
   ],
   "source": [
    "len(jobs)"
   ]
  },
  {
   "cell_type": "code",
   "execution_count": 283,
   "metadata": {},
   "outputs": [
    {
     "data": {
      "text/html": [
       "<div>\n",
       "<style scoped>\n",
       "    .dataframe tbody tr th:only-of-type {\n",
       "        vertical-align: middle;\n",
       "    }\n",
       "\n",
       "    .dataframe tbody tr th {\n",
       "        vertical-align: top;\n",
       "    }\n",
       "\n",
       "    .dataframe thead th {\n",
       "        text-align: right;\n",
       "    }\n",
       "</style>\n",
       "<table border=\"1\" class=\"dataframe\">\n",
       "  <thead>\n",
       "    <tr style=\"text-align: right;\">\n",
       "      <th></th>\n",
       "      <th>title</th>\n",
       "      <th>link</th>\n",
       "      <th>desc</th>\n",
       "    </tr>\n",
       "  </thead>\n",
       "  <tbody>\n",
       "    <tr>\n",
       "      <th>0</th>\n",
       "      <td>Mellon Post-Doctoral Fellowship in Latinx Lite...</td>\n",
       "      <td>https://joblist.mla.org/job-details/2878/mello...</td>\n",
       "      <td>Williamstown, MA | English | Full-time | Massa...</td>\n",
       "    </tr>\n",
       "    <tr>\n",
       "      <th>1</th>\n",
       "      <td>Early Career Fellowship in Creative Writing: R...</td>\n",
       "      <td>https://joblist.mla.org/job-details/2877/early...</td>\n",
       "      <td>Austin, TX | English | Full-time | Texas | Cre...</td>\n",
       "    </tr>\n",
       "    <tr>\n",
       "      <th>2</th>\n",
       "      <td>English Education - Assistant Professor</td>\n",
       "      <td>https://joblist.mla.org/job-details/2747/engli...</td>\n",
       "      <td>Fresno, CA | English | English education | Ful...</td>\n",
       "    </tr>\n",
       "    <tr>\n",
       "      <th>3</th>\n",
       "      <td>Tenure-track Assistant Professor in Rhetoric a...</td>\n",
       "      <td>https://joblist.mla.org/job-details/2745/tenur...</td>\n",
       "      <td>Boston College, Chestnut Hill Massachusetts 02...</td>\n",
       "    </tr>\n",
       "    <tr>\n",
       "      <th>4</th>\n",
       "      <td>Assistant Professor, English</td>\n",
       "      <td>https://joblist.mla.org/job-details/2696/assis...</td>\n",
       "      <td>http://employment.govst.edu/postings/5442 | En...</td>\n",
       "    </tr>\n",
       "    <tr>\n",
       "      <th>...</th>\n",
       "      <td>...</td>\n",
       "      <td>...</td>\n",
       "      <td>...</td>\n",
       "    </tr>\n",
       "    <tr>\n",
       "      <th>85</th>\n",
       "      <td>Assistant Professor(s) of Spanish</td>\n",
       "      <td>https://joblist.mla.org/job-details/2719/assis...</td>\n",
       "      <td>Williamsport, PA | Cultural studies, Language ...</td>\n",
       "    </tr>\n",
       "    <tr>\n",
       "      <th>86</th>\n",
       "      <td>Assistant Professor in English (Creative Writing)</td>\n",
       "      <td>https://joblist.mla.org/job-details/2836/assis...</td>\n",
       "      <td>St. Louis, MO | English | Full-time | Missouri...</td>\n",
       "    </tr>\n",
       "    <tr>\n",
       "      <th>87</th>\n",
       "      <td>Tenure Track Assistant Professor - Creative Wr...</td>\n",
       "      <td>https://joblist.mla.org/job-details/2694/tenur...</td>\n",
       "      <td>Davis, California | English | Full-time | Cali...</td>\n",
       "    </tr>\n",
       "    <tr>\n",
       "      <th>88</th>\n",
       "      <td>Instructor in Human Rights</td>\n",
       "      <td>https://joblist.mla.org/job-details/2693/instr...</td>\n",
       "      <td>Chicago, IL | English | Full-time | Illinois</td>\n",
       "    </tr>\n",
       "    <tr>\n",
       "      <th>89</th>\n",
       "      <td>ASSISTANT PROFESSOR OF FRENCH</td>\n",
       "      <td>https://joblist.mla.org/job-details/2692/assis...</td>\n",
       "      <td>http://www.auburn.edu/forlang | Full-time | Al...</td>\n",
       "    </tr>\n",
       "  </tbody>\n",
       "</table>\n",
       "<p>90 rows × 3 columns</p>\n",
       "</div>"
      ],
      "text/plain": [
       "                                                title  \\\n",
       "0   Mellon Post-Doctoral Fellowship in Latinx Lite...   \n",
       "1   Early Career Fellowship in Creative Writing: R...   \n",
       "2             English Education - Assistant Professor   \n",
       "3   Tenure-track Assistant Professor in Rhetoric a...   \n",
       "4                        Assistant Professor, English   \n",
       "..                                                ...   \n",
       "85                  Assistant Professor(s) of Spanish   \n",
       "86  Assistant Professor in English (Creative Writing)   \n",
       "87  Tenure Track Assistant Professor - Creative Wr...   \n",
       "88                         Instructor in Human Rights   \n",
       "89                      ASSISTANT PROFESSOR OF FRENCH   \n",
       "\n",
       "                                                 link  \\\n",
       "0   https://joblist.mla.org/job-details/2878/mello...   \n",
       "1   https://joblist.mla.org/job-details/2877/early...   \n",
       "2   https://joblist.mla.org/job-details/2747/engli...   \n",
       "3   https://joblist.mla.org/job-details/2745/tenur...   \n",
       "4   https://joblist.mla.org/job-details/2696/assis...   \n",
       "..                                                ...   \n",
       "85  https://joblist.mla.org/job-details/2719/assis...   \n",
       "86  https://joblist.mla.org/job-details/2836/assis...   \n",
       "87  https://joblist.mla.org/job-details/2694/tenur...   \n",
       "88  https://joblist.mla.org/job-details/2693/instr...   \n",
       "89  https://joblist.mla.org/job-details/2692/assis...   \n",
       "\n",
       "                                                 desc  \n",
       "0   Williamstown, MA | English | Full-time | Massa...  \n",
       "1   Austin, TX | English | Full-time | Texas | Cre...  \n",
       "2   Fresno, CA | English | English education | Ful...  \n",
       "3   Boston College, Chestnut Hill Massachusetts 02...  \n",
       "4   http://employment.govst.edu/postings/5442 | En...  \n",
       "..                                                ...  \n",
       "85  Williamsport, PA | Cultural studies, Language ...  \n",
       "86  St. Louis, MO | English | Full-time | Missouri...  \n",
       "87  Davis, California | English | Full-time | Cali...  \n",
       "88       Chicago, IL | English | Full-time | Illinois  \n",
       "89  http://www.auburn.edu/forlang | Full-time | Al...  \n",
       "\n",
       "[90 rows x 3 columns]"
      ]
     },
     "execution_count": 283,
     "metadata": {},
     "output_type": "execute_result"
    }
   ],
   "source": [
    "df=pd.DataFrame(jobs)\n",
    "df"
   ]
  },
  {
   "cell_type": "markdown",
   "metadata": {},
   "source": [
    "## Deduce info"
   ]
  },
  {
   "cell_type": "markdown",
   "metadata": {},
   "source": [
    "### Deduce job type"
   ]
  },
  {
   "cell_type": "code",
   "execution_count": 284,
   "metadata": {},
   "outputs": [],
   "source": [
    "def get_jobtype(title,link):\n",
    "    title=title.lower()\n",
    "    if 'post-doc' in title or 'postdoc' in title: return 'Postdoc'\n",
    "    if 'visiting' in title: return 'Non-TT'\n",
    "    if 'professor' in title or 'open-rank' in title: return 'TT'\n",
    "    if 'fellowship' in title or 'fellow' in title: return 'Postdoc'\n",
    "    if 'adjunct' in title or 'part-time' in title: return 'Non-TT'\n",
    "    if 'director' in title: return 'Non-TT'\n",
    "    if 'instructor' in title or 'freelance' in title: return 'Non-TT'\n",
    "    if link: return get_jobtype_from_mla(link)\n",
    "    return 'Unknown'"
   ]
  },
  {
   "cell_type": "code",
   "execution_count": 285,
   "metadata": {},
   "outputs": [],
   "source": [
    "def get_jobtype_from_mla(link):\n",
    "    with requests.get(link) as r: html=r.text\n",
    "    dom=bs4.BeautifulSoup(html)\n",
    "    for dl in dom('dl'):\n",
    "        if 'Position type' in str(dl):\n",
    "            dd=list(dl('dd'))[0]\n",
    "            return get_jobtype(dd.text,'')\n",
    "    return 'Unknown'"
   ]
  },
  {
   "cell_type": "code",
   "execution_count": 286,
   "metadata": {},
   "outputs": [],
   "source": [
    "# get_jobtype_from_mla('https://joblist.mla.org/job-details/2671/critical-race-studies-racism-and-black-and-afrodiasporic-studies/?JbeBatchId=3D491&JobAlertId=3D9850&utm_source=3DJobAlert&utm_medium=3Demail&utm_campaign=3D2020-09-23')"
   ]
  },
  {
   "cell_type": "code",
   "execution_count": 287,
   "metadata": {},
   "outputs": [
    {
     "data": {
      "text/plain": [
       "TT         62\n",
       "Non-TT     16\n",
       "Postdoc    12\n",
       "Name: JobType, dtype: int64"
      ]
     },
     "execution_count": 287,
     "metadata": {},
     "output_type": "execute_result"
    }
   ],
   "source": [
    "df['JobType']=[get_jobtype(t,l) for t,l in zip(df.title,df.link)]\n",
    "df['JobType'].value_counts()"
   ]
  },
  {
   "cell_type": "markdown",
   "metadata": {},
   "source": [
    "### Deduce field"
   ]
  },
  {
   "cell_type": "code",
   "execution_count": 288,
   "metadata": {},
   "outputs": [
    {
     "data": {
      "text/html": [
       "<div>\n",
       "<style scoped>\n",
       "    .dataframe tbody tr th:only-of-type {\n",
       "        vertical-align: middle;\n",
       "    }\n",
       "\n",
       "    .dataframe tbody tr th {\n",
       "        vertical-align: top;\n",
       "    }\n",
       "\n",
       "    .dataframe thead th {\n",
       "        text-align: right;\n",
       "    }\n",
       "</style>\n",
       "<table border=\"1\" class=\"dataframe\">\n",
       "  <thead>\n",
       "    <tr style=\"text-align: right;\">\n",
       "      <th></th>\n",
       "      <th>title</th>\n",
       "      <th>link</th>\n",
       "      <th>desc</th>\n",
       "      <th>JobType</th>\n",
       "    </tr>\n",
       "  </thead>\n",
       "  <tbody>\n",
       "    <tr>\n",
       "      <th>0</th>\n",
       "      <td>Mellon Post-Doctoral Fellowship in Latinx Lite...</td>\n",
       "      <td>https://joblist.mla.org/job-details/2878/mello...</td>\n",
       "      <td>Williamstown, MA | English | Full-time | Massa...</td>\n",
       "      <td>Postdoc</td>\n",
       "    </tr>\n",
       "    <tr>\n",
       "      <th>1</th>\n",
       "      <td>Early Career Fellowship in Creative Writing: R...</td>\n",
       "      <td>https://joblist.mla.org/job-details/2877/early...</td>\n",
       "      <td>Austin, TX | English | Full-time | Texas | Cre...</td>\n",
       "      <td>Postdoc</td>\n",
       "    </tr>\n",
       "    <tr>\n",
       "      <th>2</th>\n",
       "      <td>English Education - Assistant Professor</td>\n",
       "      <td>https://joblist.mla.org/job-details/2747/engli...</td>\n",
       "      <td>Fresno, CA | English | English education | Ful...</td>\n",
       "      <td>TT</td>\n",
       "    </tr>\n",
       "    <tr>\n",
       "      <th>3</th>\n",
       "      <td>Tenure-track Assistant Professor in Rhetoric a...</td>\n",
       "      <td>https://joblist.mla.org/job-details/2745/tenur...</td>\n",
       "      <td>Boston College, Chestnut Hill Massachusetts 02...</td>\n",
       "      <td>TT</td>\n",
       "    </tr>\n",
       "    <tr>\n",
       "      <th>4</th>\n",
       "      <td>Assistant Professor, English</td>\n",
       "      <td>https://joblist.mla.org/job-details/2696/assis...</td>\n",
       "      <td>http://employment.govst.edu/postings/5442 | En...</td>\n",
       "      <td>TT</td>\n",
       "    </tr>\n",
       "    <tr>\n",
       "      <th>...</th>\n",
       "      <td>...</td>\n",
       "      <td>...</td>\n",
       "      <td>...</td>\n",
       "      <td>...</td>\n",
       "    </tr>\n",
       "    <tr>\n",
       "      <th>85</th>\n",
       "      <td>Assistant Professor(s) of Spanish</td>\n",
       "      <td>https://joblist.mla.org/job-details/2719/assis...</td>\n",
       "      <td>Williamsport, PA | Cultural studies, Language ...</td>\n",
       "      <td>TT</td>\n",
       "    </tr>\n",
       "    <tr>\n",
       "      <th>86</th>\n",
       "      <td>Assistant Professor in English (Creative Writing)</td>\n",
       "      <td>https://joblist.mla.org/job-details/2836/assis...</td>\n",
       "      <td>St. Louis, MO | English | Full-time | Missouri...</td>\n",
       "      <td>TT</td>\n",
       "    </tr>\n",
       "    <tr>\n",
       "      <th>87</th>\n",
       "      <td>Tenure Track Assistant Professor - Creative Wr...</td>\n",
       "      <td>https://joblist.mla.org/job-details/2694/tenur...</td>\n",
       "      <td>Davis, California | English | Full-time | Cali...</td>\n",
       "      <td>TT</td>\n",
       "    </tr>\n",
       "    <tr>\n",
       "      <th>88</th>\n",
       "      <td>Instructor in Human Rights</td>\n",
       "      <td>https://joblist.mla.org/job-details/2693/instr...</td>\n",
       "      <td>Chicago, IL | English | Full-time | Illinois</td>\n",
       "      <td>Non-TT</td>\n",
       "    </tr>\n",
       "    <tr>\n",
       "      <th>89</th>\n",
       "      <td>ASSISTANT PROFESSOR OF FRENCH</td>\n",
       "      <td>https://joblist.mla.org/job-details/2692/assis...</td>\n",
       "      <td>http://www.auburn.edu/forlang | Full-time | Al...</td>\n",
       "      <td>TT</td>\n",
       "    </tr>\n",
       "  </tbody>\n",
       "</table>\n",
       "<p>90 rows × 4 columns</p>\n",
       "</div>"
      ],
      "text/plain": [
       "                                                title  \\\n",
       "0   Mellon Post-Doctoral Fellowship in Latinx Lite...   \n",
       "1   Early Career Fellowship in Creative Writing: R...   \n",
       "2             English Education - Assistant Professor   \n",
       "3   Tenure-track Assistant Professor in Rhetoric a...   \n",
       "4                        Assistant Professor, English   \n",
       "..                                                ...   \n",
       "85                  Assistant Professor(s) of Spanish   \n",
       "86  Assistant Professor in English (Creative Writing)   \n",
       "87  Tenure Track Assistant Professor - Creative Wr...   \n",
       "88                         Instructor in Human Rights   \n",
       "89                      ASSISTANT PROFESSOR OF FRENCH   \n",
       "\n",
       "                                                 link  \\\n",
       "0   https://joblist.mla.org/job-details/2878/mello...   \n",
       "1   https://joblist.mla.org/job-details/2877/early...   \n",
       "2   https://joblist.mla.org/job-details/2747/engli...   \n",
       "3   https://joblist.mla.org/job-details/2745/tenur...   \n",
       "4   https://joblist.mla.org/job-details/2696/assis...   \n",
       "..                                                ...   \n",
       "85  https://joblist.mla.org/job-details/2719/assis...   \n",
       "86  https://joblist.mla.org/job-details/2836/assis...   \n",
       "87  https://joblist.mla.org/job-details/2694/tenur...   \n",
       "88  https://joblist.mla.org/job-details/2693/instr...   \n",
       "89  https://joblist.mla.org/job-details/2692/assis...   \n",
       "\n",
       "                                                 desc  JobType  \n",
       "0   Williamstown, MA | English | Full-time | Massa...  Postdoc  \n",
       "1   Austin, TX | English | Full-time | Texas | Cre...  Postdoc  \n",
       "2   Fresno, CA | English | English education | Ful...       TT  \n",
       "3   Boston College, Chestnut Hill Massachusetts 02...       TT  \n",
       "4   http://employment.govst.edu/postings/5442 | En...       TT  \n",
       "..                                                ...      ...  \n",
       "85  Williamsport, PA | Cultural studies, Language ...       TT  \n",
       "86  St. Louis, MO | English | Full-time | Missouri...       TT  \n",
       "87  Davis, California | English | Full-time | Cali...       TT  \n",
       "88       Chicago, IL | English | Full-time | Illinois   Non-TT  \n",
       "89  http://www.auburn.edu/forlang | Full-time | Al...       TT  \n",
       "\n",
       "[90 rows x 4 columns]"
      ]
     },
     "execution_count": 288,
     "metadata": {},
     "output_type": "execute_result"
    }
   ],
   "source": [
    "df"
   ]
  },
  {
   "cell_type": "code",
   "execution_count": 289,
   "metadata": {},
   "outputs": [],
   "source": [
    "def get_field(title,desc='',link=''):\n",
    "    title=title.lower()\n",
    "    title+=' '+desc.lower()\n",
    "    if 'latinx' in title or 'hispanic' in title: return 'Latinx'\n",
    "    if 'creative' in title: return 'Creative Writing'\n",
    "    if 'french' in title: return 'French'\n",
    "    if 'spanish' in title: return 'Spanish'\n",
    "    if 'russian' in title: return 'Russian'\n",
    "    if 'italian' in title: return 'Italian'\n",
    "    if 'chinese' in title: return 'Chinese'\n",
    "    if 'arabic' in title: return 'Arabic'\n",
    "    if ' race ' in title: return 'Critical Race Studies'\n",
    "    if 'japanese' in title: return 'Japanese'\n",
    "    if 'portuguese' in title: return 'Portuguese'\n",
    "    if 'rhetoric' in title or ' writing ' in title: return 'Rhetoric/Composition'\n",
    "    if 'tesol' in title or 'english education' in title: return 'TESOL'\n",
    "    if 'afro' in title or 'african' in title: return 'African American'\n",
    "    if 'asian' in title: return 'Asian'\n",
    "    if 'poetry' in title or 'poetics' in title: return 'Poetry'\n",
    "    if 'caribbean' in title: return 'Anglophone'\n",
    "    if 'medieval' in title: return 'Medieval'\n",
    "    if 'american sign lang' in title: return 'ASL'\n",
    "    if 'anglophone' in title or 'postcolonial' in title or 'global' in title or 'world' in title: return 'Anglophone'\n",
    "    if 'children' in title: return 'Children\\'s Lit'\n",
    "    if 'southern' in title: return 'Southern'\n",
    "    if 'translation' in title: return 'Translation Studies'\n",
    "    if 'media studies' in title: return 'Media Studies'\n",
    "    if ' art ' in title and 'history' in title: return 'Art History'\n",
    "    if 'professor of humanities' in title: return 'Generalist'\n",
    "    if '20th/21st century american' in title: return 'C20-C21 American'\n",
    "    if 'comparative lit' in title: return 'Comparative Literature'\n",
    "    return 'Unknown'"
   ]
  },
  {
   "cell_type": "code",
   "execution_count": 290,
   "metadata": {},
   "outputs": [
    {
     "data": {
      "text/plain": [
       "Spanish                   10\n",
       "French                    10\n",
       "Rhetoric/Composition      10\n",
       "Creative Writing           9\n",
       "Anglophone                 9\n",
       "Unknown                    6\n",
       "Latinx                     5\n",
       "TESOL                      4\n",
       "Chinese                    3\n",
       "Russian                    3\n",
       "Medieval                   2\n",
       "Arabic                     2\n",
       "ASL                        2\n",
       "African American           2\n",
       "Poetry                     2\n",
       "Media Studies              1\n",
       "Translation Studies        1\n",
       "Asian                      1\n",
       "Italian                    1\n",
       "Japanese                   1\n",
       "Portuguese                 1\n",
       "Comparative Literature     1\n",
       "Critical Race Studies      1\n",
       "C20-C21 American           1\n",
       "Art History                1\n",
       "Generalist                 1\n",
       "Name: field, dtype: int64"
      ]
     },
     "execution_count": 290,
     "metadata": {},
     "output_type": "execute_result"
    }
   ],
   "source": [
    "df['field']=[get_field(t,d,l) for t,d,l in zip(df.title, df.desc, df.link)]\n",
    "df['field'].value_counts()"
   ]
  },
  {
   "cell_type": "code",
   "execution_count": 291,
   "metadata": {},
   "outputs": [],
   "source": [
    "# dict(df[df.field=='Unknown'].sample(n=1).iloc[0])"
   ]
  },
  {
   "cell_type": "code",
   "execution_count": 292,
   "metadata": {},
   "outputs": [],
   "source": [
    "# for i,row in df[df.field=='Unknown'].iterrows():\n",
    "#     print(dict(row))"
   ]
  },
  {
   "cell_type": "code",
   "execution_count": 293,
   "metadata": {},
   "outputs": [],
   "source": [
    "# Add year\n",
    "df['year']=2020"
   ]
  },
  {
   "cell_type": "markdown",
   "metadata": {},
   "source": [
    "## Save"
   ]
  },
  {
   "cell_type": "code",
   "execution_count": 294,
   "metadata": {},
   "outputs": [],
   "source": [
    "now=datetime.now()\n",
    "date=f'{now.year}-{now.month}-{now.day}'\n",
    "ofn=f'data.jobcensus.mla.{date}.csv'\n",
    "df.to_csv(ofn,index=False)"
   ]
  },
  {
   "cell_type": "code",
   "execution_count": null,
   "metadata": {},
   "outputs": [],
   "source": []
  }
 ],
 "metadata": {
  "kernelspec": {
   "display_name": "Python 3",
   "language": "python",
   "name": "python3"
  },
  "language_info": {
   "codemirror_mode": {
    "name": "ipython",
    "version": 3
   },
   "file_extension": ".py",
   "mimetype": "text/x-python",
   "name": "python",
   "nbconvert_exporter": "python",
   "pygments_lexer": "ipython3",
   "version": "3.7.7"
  },
  "widgets": {
   "application/vnd.jupyter.widget-state+json": {
    "state": {},
    "version_major": 2,
    "version_minor": 0
   }
  }
 },
 "nbformat": 4,
 "nbformat_minor": 4
}
