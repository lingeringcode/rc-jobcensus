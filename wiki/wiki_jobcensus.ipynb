{
 "cells": [
  {
   "cell_type": "markdown",
   "metadata": {
    "id": "0yJbTgWuLJbv"
   },
   "source": [
    "# Census for Academic Jobs"
   ]
  },
  {
   "cell_type": "markdown",
   "metadata": {
    "id": "PFYJjydQLnNg"
   },
   "source": [
    "## Setup"
   ]
  },
  {
   "cell_type": "code",
   "execution_count": 112,
   "metadata": {
    "colab": {
     "base_uri": "https://localhost:8080/"
    },
    "id": "nABy_LLNLRgB",
    "outputId": "c5e679c5-05b9-47fd-922a-e984b66089c7"
   },
   "outputs": [],
   "source": [
    "# need to install wikia api\n",
    "!pip install wikia tqdm pandas bs4 -q"
   ]
  },
  {
   "cell_type": "code",
   "execution_count": 1,
   "metadata": {
    "id": "JjKDNThtLNkp"
   },
   "outputs": [],
   "source": [
    "import os,sys\n",
    "import pandas as pd\n",
    "import wikia\n",
    "from wikia import WikiaError\n",
    "from tqdm import tqdm\n",
    "from datetime import datetime\n",
    "import bs4"
   ]
  },
  {
   "cell_type": "code",
   "execution_count": 2,
   "metadata": {
    "id": "hy8sKlfdMNnY"
   },
   "outputs": [],
   "source": [
    "# some constants\n",
    "WIKI_NAME = 'academicjobs'\n",
    "MAIN_PAGE_NAME = 'Academic_Jobs_Wiki'"
   ]
  },
  {
   "cell_type": "markdown",
   "metadata": {
    "id": "yLPeGv_5S3d4"
   },
   "source": [
    "## Find relevant pages"
   ]
  },
  {
   "cell_type": "markdown",
   "metadata": {
    "id": "9xzq_jDUFvBI"
   },
   "source": [
    "### Get the top level discipline pages"
   ]
  },
  {
   "cell_type": "code",
   "execution_count": 3,
   "metadata": {},
   "outputs": [
    {
     "data": {
      "text/plain": [
       "2020"
      ]
     },
     "execution_count": 3,
     "metadata": {},
     "output_type": "execute_result"
    }
   ],
   "source": [
    "# what year is it\n",
    "now=datetime.now()\n",
    "the_year = now.year\n",
    "the_year"
   ]
  },
  {
   "cell_type": "code",
   "execution_count": 4,
   "metadata": {
    "colab": {
     "base_uri": "https://localhost:8080/"
    },
    "id": "PXHJa9j3S9A2",
    "outputId": "dca9f161-d173-4146-dd8a-245dcf46be66"
   },
   "outputs": [
    {
     "data": {
      "text/plain": [
       "[2011, 2012, 2013, 2014, 2015, 2016, 2017, 2018, 2019, 2020]"
      ]
     },
     "execution_count": 4,
     "metadata": {},
     "output_type": "execute_result"
    }
   ],
   "source": [
    "# earliest year on the main page is 2007, but the formatting is standardized around 2011\n",
    "years = list(range(2011, the_year + 1))\n",
    "years"
   ]
  },
  {
   "cell_type": "code",
   "execution_count": 5,
   "metadata": {
    "id": "w4-9zPw7TURE"
   },
   "outputs": [],
   "source": [
    "# Change for history?\n",
    "disc_name = 'Rhetoric/Composition'"
   ]
  },
  {
   "cell_type": "code",
   "execution_count": 6,
   "metadata": {
    "colab": {
     "base_uri": "https://localhost:8080/"
    },
    "id": "A9rZLt6fBqUU",
    "outputId": "71312c1f-bd43-4d76-9eb5-9851b378529e"
   },
   "outputs": [
    {
     "name": "stdout",
     "output_type": "stream",
     "text": [
      "['Rhetoric/Composition 2011', 'Rhetoric/Composition 2012', 'Rhetoric/Composition 2013', 'Rhetoric/Composition 2014', 'Rhetoric/Composition 2015', 'Rhetoric/Composition 2016', 'Rhetoric/Composition 2017', 'Rhetoric/Composition 2018', 'Rhetoric/Composition 2019', 'Rhetoric/Composition 2020'] \n",
      "\n",
      "[2011](https://academicjobs.wikia.org/wiki/Rhetoric/Composition_2011) | [2012](https://academicjobs.wikia.org/wiki/Rhetoric/Composition_2012) | [2013](https://academicjobs.wikia.org/wiki/Rhetoric/Composition_2013) | [2014](https://academicjobs.wikia.org/wiki/Rhetoric/Composition_2014) | [2015](https://academicjobs.wikia.org/wiki/Rhetoric/Composition_2015) | [2016](https://academicjobs.wikia.org/wiki/Rhetoric/Composition_2016) | [2017](https://academicjobs.wikia.org/wiki/Rhetoric/Composition_2017) | [2018](https://academicjobs.wikia.org/wiki/Rhetoric/Composition_2018) | [2019](https://academicjobs.wikia.org/wiki/Rhetoric/Composition_2019) | [2020](https://academicjobs.wikia.org/wiki/Rhetoric/Composition_2020) | "
     ]
    }
   ],
   "source": [
    "# get pages for discipline \n",
    "disc_pages=[f'{disc_name} {year}' for year in years]\n",
    "print(disc_pages,'\\n')\n",
    "\n",
    "for dp in disc_pages:\n",
    "    print(f'[{dp.split()[-1].split(\"-\")[0]}](https://academicjobs.wikia.org/wiki/{dp.replace(\" \",\"_\")})', end=' | ')"
   ]
  },
  {
   "cell_type": "code",
   "execution_count": 9,
   "metadata": {},
   "outputs": [
    {
     "data": {
      "text/plain": [
       "['Rhetoric/Composition 2011',\n",
       " 'Rhetoric/Composition 2012',\n",
       " 'Rhetoric/Composition 2013',\n",
       " 'Rhetoric/Composition 2014',\n",
       " 'Rhetoric/Composition 2015',\n",
       " 'Rhetoric/Composition 2016',\n",
       " 'Rhetoric/Composition 2017',\n",
       " 'Rhetoric/Composition 2018',\n",
       " 'Rhetoric/Composition 2019',\n",
       " 'Rhetoric/Composition 2020']"
      ]
     },
     "execution_count": 9,
     "metadata": {},
     "output_type": "execute_result"
    }
   ],
   "source": [
    "disc_pages"
   ]
  },
  {
   "cell_type": "code",
   "execution_count": 10,
   "metadata": {},
   "outputs": [
    {
     "data": {
      "text/plain": [
       "[2011, 2012, 2013, 2014, 2015, 2016, 2017, 2018, 2019, 2020]"
      ]
     },
     "execution_count": 10,
     "metadata": {},
     "output_type": "execute_result"
    }
   ],
   "source": [
    "years"
   ]
  },
  {
   "cell_type": "code",
   "execution_count": 11,
   "metadata": {},
   "outputs": [
    {
     "data": {
      "text/plain": [
       "[('Rhetoric/Composition 2011', 2011),\n",
       " ('Rhetoric/Composition 2012', 2012),\n",
       " ('Rhetoric/Composition 2013', 2013),\n",
       " ('Rhetoric/Composition 2014', 2014),\n",
       " ('Rhetoric/Composition 2015', 2015),\n",
       " ('Rhetoric/Composition 2016', 2016),\n",
       " ('Rhetoric/Composition 2017', 2017),\n",
       " ('Rhetoric/Composition 2018', 2018),\n",
       " ('Rhetoric/Composition 2019', 2019),\n",
       " ('Rhetoric/Composition 2020', 2020)]"
      ]
     },
     "execution_count": 11,
     "metadata": {},
     "output_type": "execute_result"
    }
   ],
   "source": [
    "list(zip(disc_pages,years))"
   ]
  },
  {
   "cell_type": "markdown",
   "metadata": {
    "id": "Lc0xmBDZFnPt"
   },
   "source": [
    "### Get links from discipline pages"
   ]
  },
  {
   "cell_type": "code",
   "execution_count": 12,
   "metadata": {
    "id": "HoV0lJsXF46R"
   },
   "outputs": [],
   "source": [
    "def get_links_from_disc_page(disc_page_name, year):\n",
    "    # get page from wikia\n",
    "    page=wikia.page(WIKI_NAME, disc_page_name)\n",
    "    \n",
    "    # get html\n",
    "    html = page.html()\n",
    "    \n",
    "    # read html\n",
    "    dom = bs4.BeautifulSoup(html)\n",
    "    \n",
    "    # get links\n",
    "    links=[]\n",
    "    \n",
    "    for link in dom('a'):\n",
    "        try:\n",
    "            href=link['href']\n",
    "        except KeyError:\n",
    "            continue\n",
    "        \n",
    "        #If not a wiki page, skip it\n",
    "        if not '/wiki/' in href:\n",
    "            continue\n",
    "        \n",
    "        wikilink = href.split('/wiki/')[1]\n",
    "        \n",
    "        #If special page queries present, skip it\n",
    "        if ':' in wikilink or '?' in wikilink:\n",
    "            continue\n",
    "        \n",
    "        if wikilink == disc_page_name.replace(' ','_'):\n",
    "            continue\n",
    "        \n",
    "        if year and (not str(year) in wikilink and not str(year+1) in wikilink) or (str(int(year)-1) in wikilink):\n",
    "            continue\n",
    "            \n",
    "        if not wikilink in links:\n",
    "            links+=[wikilink]\n",
    "    \n",
    "    return links"
   ]
  },
  {
   "cell_type": "code",
   "execution_count": 15,
   "metadata": {
    "id": "2MwJMeHySoO8"
   },
   "outputs": [],
   "source": [
    "# Get all links\n",
    "\n",
    "def strip_year_from_page(page_name):\n",
    "    pdat=page_name.split('_')\n",
    "    return ' '.join(pdat[:-1])\n",
    "\n",
    "def get_all_links():\n",
    "    link_ld=[]\n",
    "    for dpage,dyear in tqdm(list(zip(disc_pages,years))):\n",
    "        links = get_links_from_disc_page(dpage, year=dyear)\n",
    "        for link in links:\n",
    "            # Fix year label issue with R/C pages: 2011 year being labeled as 2012, etc.\n",
    "            if 'Salaries' not in link and 'New_Media' not in link and 'Queer' not in link and 'Environmental' not in link and 'Rhetoric' in link:\n",
    "                link = link[0:21]+str(dyear)                \n",
    "                link_d={'disc_page':dpage, 'year':dyear, 'page':link, 'page_group':strip_year_from_page(link)}\n",
    "                link_ld.append(link_d)\n",
    "                \n",
    "            link_d={'disc_page':dpage, 'year':dyear, 'page':link, 'page_group':strip_year_from_page(link)}\n",
    "            link_ld.append(link_d)\n",
    "            \n",
    "    # Manual fix for r/c 2020\n",
    "    link_ld.append({\n",
    "        'disc_page': 'Rhetoric/Composition 2020', \n",
    "        'year': 2020, \n",
    "        'page': 'Rhetoric/Composition_2020', \n",
    "        'page_group': 'Rhetoric/Composition'\n",
    "    })\n",
    "        \n",
    "    return link_ld"
   ]
  },
  {
   "cell_type": "code",
   "execution_count": 16,
   "metadata": {
    "colab": {
     "base_uri": "https://localhost:8080/",
     "height": 659
    },
    "id": "E6hwl95iS4Gc",
    "outputId": "c04ab305-e68a-4674-f6f1-ab50195eff58",
    "scrolled": true
   },
   "outputs": [
    {
     "name": "stderr",
     "output_type": "stream",
     "text": [
      "100%|██████████| 10/10 [00:09<00:00,  1.10it/s]\n"
     ]
    },
    {
     "data": {
      "text/plain": [
       "126"
      ]
     },
     "execution_count": 16,
     "metadata": {},
     "output_type": "execute_result"
    }
   ],
   "source": [
    "LINK_LD = get_all_links()\n",
    "len(LINK_LD)"
   ]
  },
  {
   "cell_type": "markdown",
   "metadata": {},
   "source": [
    "### Clean links"
   ]
  },
  {
   "cell_type": "code",
   "execution_count": 26,
   "metadata": {},
   "outputs": [
    {
     "data": {
      "text/html": [
       "<div>\n",
       "<style scoped>\n",
       "    .dataframe tbody tr th:only-of-type {\n",
       "        vertical-align: middle;\n",
       "    }\n",
       "\n",
       "    .dataframe tbody tr th {\n",
       "        vertical-align: top;\n",
       "    }\n",
       "\n",
       "    .dataframe thead th {\n",
       "        text-align: right;\n",
       "    }\n",
       "</style>\n",
       "<table border=\"1\" class=\"dataframe\">\n",
       "  <thead>\n",
       "    <tr style=\"text-align: right;\">\n",
       "      <th></th>\n",
       "      <th>disc_page</th>\n",
       "      <th>year</th>\n",
       "      <th>page</th>\n",
       "      <th>page_group</th>\n",
       "    </tr>\n",
       "  </thead>\n",
       "  <tbody>\n",
       "    <tr>\n",
       "      <th>0</th>\n",
       "      <td>Rhetoric/Composition 2011</td>\n",
       "      <td>2011</td>\n",
       "      <td>Rhetoric/Composition_Positions_and_Salaries_20...</td>\n",
       "      <td>Rhetoric/Composition Positions and Salaries</td>\n",
       "    </tr>\n",
       "    <tr>\n",
       "      <th>1</th>\n",
       "      <td>Rhetoric/Composition 2011</td>\n",
       "      <td>2011</td>\n",
       "      <td>Rhetoric/Composition_2011</td>\n",
       "      <td>Rhetoric/Composition</td>\n",
       "    </tr>\n",
       "    <tr>\n",
       "      <th>2</th>\n",
       "      <td>Rhetoric/Composition 2011</td>\n",
       "      <td>2011</td>\n",
       "      <td>Rhetoric/Composition_2011</td>\n",
       "      <td>Rhetoric/Composition</td>\n",
       "    </tr>\n",
       "    <tr>\n",
       "      <th>3</th>\n",
       "      <td>Rhetoric/Composition 2011</td>\n",
       "      <td>2011</td>\n",
       "      <td>CreativeWriting_2011</td>\n",
       "      <td>CreativeWriting</td>\n",
       "    </tr>\n",
       "    <tr>\n",
       "      <th>4</th>\n",
       "      <td>Rhetoric/Composition 2011</td>\n",
       "      <td>2011</td>\n",
       "      <td>Children%27s_2011</td>\n",
       "      <td>Children%27s</td>\n",
       "    </tr>\n",
       "    <tr>\n",
       "      <th>...</th>\n",
       "      <td>...</td>\n",
       "      <td>...</td>\n",
       "      <td>...</td>\n",
       "      <td>...</td>\n",
       "    </tr>\n",
       "    <tr>\n",
       "      <th>121</th>\n",
       "      <td>Rhetoric/Composition 2020</td>\n",
       "      <td>2020</td>\n",
       "      <td>Comparative_Literature_2020-2021</td>\n",
       "      <td>Comparative Literature</td>\n",
       "    </tr>\n",
       "    <tr>\n",
       "      <th>122</th>\n",
       "      <td>Rhetoric/Composition 2020</td>\n",
       "      <td>2020</td>\n",
       "      <td>Humanities_and_Social_Sciences_Postdocs_2020-2021</td>\n",
       "      <td>Humanities and Social Sciences Postdocs</td>\n",
       "    </tr>\n",
       "    <tr>\n",
       "      <th>123</th>\n",
       "      <td>Rhetoric/Composition 2020</td>\n",
       "      <td>2020</td>\n",
       "      <td>German_2020-2021</td>\n",
       "      <td>German</td>\n",
       "    </tr>\n",
       "    <tr>\n",
       "      <th>124</th>\n",
       "      <td>Rhetoric/Composition 2020</td>\n",
       "      <td>2020</td>\n",
       "      <td>New_Media_and_Digital_Humanities_2020</td>\n",
       "      <td>New Media and Digital Humanities</td>\n",
       "    </tr>\n",
       "    <tr>\n",
       "      <th>125</th>\n",
       "      <td>Rhetoric/Composition 2020</td>\n",
       "      <td>2020</td>\n",
       "      <td>Rhetoric/Composition_2020</td>\n",
       "      <td>Rhetoric/Composition</td>\n",
       "    </tr>\n",
       "  </tbody>\n",
       "</table>\n",
       "<p>126 rows × 4 columns</p>\n",
       "</div>"
      ],
      "text/plain": [
       "                     disc_page  year  \\\n",
       "0    Rhetoric/Composition 2011  2011   \n",
       "1    Rhetoric/Composition 2011  2011   \n",
       "2    Rhetoric/Composition 2011  2011   \n",
       "3    Rhetoric/Composition 2011  2011   \n",
       "4    Rhetoric/Composition 2011  2011   \n",
       "..                         ...   ...   \n",
       "121  Rhetoric/Composition 2020  2020   \n",
       "122  Rhetoric/Composition 2020  2020   \n",
       "123  Rhetoric/Composition 2020  2020   \n",
       "124  Rhetoric/Composition 2020  2020   \n",
       "125  Rhetoric/Composition 2020  2020   \n",
       "\n",
       "                                                  page  \\\n",
       "0    Rhetoric/Composition_Positions_and_Salaries_20...   \n",
       "1                            Rhetoric/Composition_2011   \n",
       "2                            Rhetoric/Composition_2011   \n",
       "3                                 CreativeWriting_2011   \n",
       "4                                    Children%27s_2011   \n",
       "..                                                 ...   \n",
       "121                   Comparative_Literature_2020-2021   \n",
       "122  Humanities_and_Social_Sciences_Postdocs_2020-2021   \n",
       "123                                   German_2020-2021   \n",
       "124              New_Media_and_Digital_Humanities_2020   \n",
       "125                          Rhetoric/Composition_2020   \n",
       "\n",
       "                                      page_group  \n",
       "0    Rhetoric/Composition Positions and Salaries  \n",
       "1                           Rhetoric/Composition  \n",
       "2                           Rhetoric/Composition  \n",
       "3                                CreativeWriting  \n",
       "4                                   Children%27s  \n",
       "..                                           ...  \n",
       "121                       Comparative Literature  \n",
       "122      Humanities and Social Sciences Postdocs  \n",
       "123                                       German  \n",
       "124             New Media and Digital Humanities  \n",
       "125                         Rhetoric/Composition  \n",
       "\n",
       "[126 rows x 4 columns]"
      ]
     },
     "execution_count": 26,
     "metadata": {},
     "output_type": "execute_result"
    }
   ],
   "source": [
    "df_pages=pd.DataFrame(LINK_LD)\n",
    "df_pages"
   ]
  },
  {
   "cell_type": "markdown",
   "metadata": {},
   "source": [
    "## Check different years for discrepancies in pages/groups across years"
   ]
  },
  {
   "cell_type": "code",
   "execution_count": 27,
   "metadata": {},
   "outputs": [
    {
     "data": {
      "text/html": [
       "<div>\n",
       "<style scoped>\n",
       "    .dataframe tbody tr th:only-of-type {\n",
       "        vertical-align: middle;\n",
       "    }\n",
       "\n",
       "    .dataframe tbody tr th {\n",
       "        vertical-align: top;\n",
       "    }\n",
       "\n",
       "    .dataframe thead th {\n",
       "        text-align: right;\n",
       "    }\n",
       "</style>\n",
       "<table border=\"1\" class=\"dataframe\">\n",
       "  <thead>\n",
       "    <tr style=\"text-align: right;\">\n",
       "      <th></th>\n",
       "      <th>disc_page</th>\n",
       "      <th>year</th>\n",
       "      <th>page</th>\n",
       "      <th>page_group</th>\n",
       "    </tr>\n",
       "  </thead>\n",
       "  <tbody>\n",
       "    <tr>\n",
       "      <th>103</th>\n",
       "      <td>Rhetoric/Composition 2019</td>\n",
       "      <td>2019</td>\n",
       "      <td>Spanish_and_Portuguese_2020-2021</td>\n",
       "      <td>Spanish and Portuguese</td>\n",
       "    </tr>\n",
       "    <tr>\n",
       "      <th>104</th>\n",
       "      <td>Rhetoric/Composition 2019</td>\n",
       "      <td>2019</td>\n",
       "      <td>Communication_and_Media_Studies_2020-2021</td>\n",
       "      <td>Communication and Media Studies</td>\n",
       "    </tr>\n",
       "    <tr>\n",
       "      <th>105</th>\n",
       "      <td>Rhetoric/Composition 2019</td>\n",
       "      <td>2019</td>\n",
       "      <td>Social_Work_2020-2021</td>\n",
       "      <td>Social Work</td>\n",
       "    </tr>\n",
       "    <tr>\n",
       "      <th>106</th>\n",
       "      <td>Rhetoric/Composition 2019</td>\n",
       "      <td>2019</td>\n",
       "      <td>Humanities_and_Social_Sciences_Postdocs_2020-2021</td>\n",
       "      <td>Humanities and Social Sciences Postdocs</td>\n",
       "    </tr>\n",
       "    <tr>\n",
       "      <th>107</th>\n",
       "      <td>Rhetoric/Composition 2019</td>\n",
       "      <td>2019</td>\n",
       "      <td>German_2020-2021</td>\n",
       "      <td>German</td>\n",
       "    </tr>\n",
       "    <tr>\n",
       "      <th>108</th>\n",
       "      <td>Rhetoric/Composition 2019</td>\n",
       "      <td>2019</td>\n",
       "      <td>Philosophy_2020-2021</td>\n",
       "      <td>Philosophy</td>\n",
       "    </tr>\n",
       "    <tr>\n",
       "      <th>109</th>\n",
       "      <td>Rhetoric/Composition 2019</td>\n",
       "      <td>2019</td>\n",
       "      <td>Rhetoric/Composition_2019</td>\n",
       "      <td>Rhetoric/Composition</td>\n",
       "    </tr>\n",
       "    <tr>\n",
       "      <th>110</th>\n",
       "      <td>Rhetoric/Composition 2019</td>\n",
       "      <td>2019</td>\n",
       "      <td>Rhetoric/Composition_2019</td>\n",
       "      <td>Rhetoric/Composition</td>\n",
       "    </tr>\n",
       "    <tr>\n",
       "      <th>111</th>\n",
       "      <td>Rhetoric/Composition 2019</td>\n",
       "      <td>2019</td>\n",
       "      <td>New_Media_and_Digital_Humanities_2019</td>\n",
       "      <td>New Media and Digital Humanities</td>\n",
       "    </tr>\n",
       "    <tr>\n",
       "      <th>112</th>\n",
       "      <td>Rhetoric/Composition 2019</td>\n",
       "      <td>2019</td>\n",
       "      <td>Community_Colleges_2019</td>\n",
       "      <td>Community Colleges</td>\n",
       "    </tr>\n",
       "    <tr>\n",
       "      <th>113</th>\n",
       "      <td>Rhetoric/Composition 2019</td>\n",
       "      <td>2019</td>\n",
       "      <td>Generalist_2019</td>\n",
       "      <td>Generalist</td>\n",
       "    </tr>\n",
       "    <tr>\n",
       "      <th>114</th>\n",
       "      <td>Rhetoric/Composition 2019</td>\n",
       "      <td>2019</td>\n",
       "      <td>Creative_Writing_2019</td>\n",
       "      <td>Creative Writing</td>\n",
       "    </tr>\n",
       "    <tr>\n",
       "      <th>115</th>\n",
       "      <td>Rhetoric/Composition 2019</td>\n",
       "      <td>2019</td>\n",
       "      <td>Anglophone_2019</td>\n",
       "      <td>Anglophone</td>\n",
       "    </tr>\n",
       "    <tr>\n",
       "      <th>116</th>\n",
       "      <td>Rhetoric/Composition 2019</td>\n",
       "      <td>2019</td>\n",
       "      <td>Romanticism/Victorian/19th_2019</td>\n",
       "      <td>Romanticism/Victorian/19th</td>\n",
       "    </tr>\n",
       "  </tbody>\n",
       "</table>\n",
       "</div>"
      ],
      "text/plain": [
       "                     disc_page  year  \\\n",
       "103  Rhetoric/Composition 2019  2019   \n",
       "104  Rhetoric/Composition 2019  2019   \n",
       "105  Rhetoric/Composition 2019  2019   \n",
       "106  Rhetoric/Composition 2019  2019   \n",
       "107  Rhetoric/Composition 2019  2019   \n",
       "108  Rhetoric/Composition 2019  2019   \n",
       "109  Rhetoric/Composition 2019  2019   \n",
       "110  Rhetoric/Composition 2019  2019   \n",
       "111  Rhetoric/Composition 2019  2019   \n",
       "112  Rhetoric/Composition 2019  2019   \n",
       "113  Rhetoric/Composition 2019  2019   \n",
       "114  Rhetoric/Composition 2019  2019   \n",
       "115  Rhetoric/Composition 2019  2019   \n",
       "116  Rhetoric/Composition 2019  2019   \n",
       "\n",
       "                                                  page  \\\n",
       "103                   Spanish_and_Portuguese_2020-2021   \n",
       "104          Communication_and_Media_Studies_2020-2021   \n",
       "105                              Social_Work_2020-2021   \n",
       "106  Humanities_and_Social_Sciences_Postdocs_2020-2021   \n",
       "107                                   German_2020-2021   \n",
       "108                               Philosophy_2020-2021   \n",
       "109                          Rhetoric/Composition_2019   \n",
       "110                          Rhetoric/Composition_2019   \n",
       "111              New_Media_and_Digital_Humanities_2019   \n",
       "112                            Community_Colleges_2019   \n",
       "113                                    Generalist_2019   \n",
       "114                              Creative_Writing_2019   \n",
       "115                                    Anglophone_2019   \n",
       "116                    Romanticism/Victorian/19th_2019   \n",
       "\n",
       "                                  page_group  \n",
       "103                   Spanish and Portuguese  \n",
       "104          Communication and Media Studies  \n",
       "105                              Social Work  \n",
       "106  Humanities and Social Sciences Postdocs  \n",
       "107                                   German  \n",
       "108                               Philosophy  \n",
       "109                     Rhetoric/Composition  \n",
       "110                     Rhetoric/Composition  \n",
       "111         New Media and Digital Humanities  \n",
       "112                       Community Colleges  \n",
       "113                               Generalist  \n",
       "114                         Creative Writing  \n",
       "115                               Anglophone  \n",
       "116               Romanticism/Victorian/19th  "
      ]
     },
     "execution_count": 27,
     "metadata": {},
     "output_type": "execute_result"
    }
   ],
   "source": [
    "df_pages[df_pages.year == 2019]"
   ]
  },
  {
   "cell_type": "markdown",
   "metadata": {},
   "source": [
    "## Drop any duplicate pages"
   ]
  },
  {
   "cell_type": "code",
   "execution_count": 28,
   "metadata": {},
   "outputs": [
    {
     "data": {
      "text/plain": [
       "126"
      ]
     },
     "execution_count": 28,
     "metadata": {},
     "output_type": "execute_result"
    }
   ],
   "source": [
    "len(df_pages)"
   ]
  },
  {
   "cell_type": "code",
   "execution_count": 29,
   "metadata": {
    "colab": {
     "base_uri": "https://localhost:8080/"
    },
    "id": "brwxyeU8QUP6",
    "outputId": "e405690b-8f0b-4100-ff4b-21314ee5bf92"
   },
   "outputs": [
    {
     "name": "stdout",
     "output_type": "stream",
     "text": [
      "112\n"
     ]
    }
   ],
   "source": [
    "df_pages = df_pages.drop_duplicates('page',keep='last')\n",
    "print(len(df_pages))"
   ]
  },
  {
   "cell_type": "code",
   "execution_count": 30,
   "metadata": {},
   "outputs": [
    {
     "data": {
      "text/html": [
       "<div>\n",
       "<style scoped>\n",
       "    .dataframe tbody tr th:only-of-type {\n",
       "        vertical-align: middle;\n",
       "    }\n",
       "\n",
       "    .dataframe tbody tr th {\n",
       "        vertical-align: top;\n",
       "    }\n",
       "\n",
       "    .dataframe thead th {\n",
       "        text-align: right;\n",
       "    }\n",
       "</style>\n",
       "<table border=\"1\" class=\"dataframe\">\n",
       "  <thead>\n",
       "    <tr style=\"text-align: right;\">\n",
       "      <th></th>\n",
       "      <th>disc_page</th>\n",
       "      <th>year</th>\n",
       "      <th>page</th>\n",
       "      <th>page_group</th>\n",
       "    </tr>\n",
       "  </thead>\n",
       "  <tbody>\n",
       "    <tr>\n",
       "      <th>0</th>\n",
       "      <td>Rhetoric/Composition 2011</td>\n",
       "      <td>2011</td>\n",
       "      <td>Rhetoric/Composition_Positions_and_Salaries_20...</td>\n",
       "      <td>Rhetoric/Composition Positions and Salaries</td>\n",
       "    </tr>\n",
       "    <tr>\n",
       "      <th>2</th>\n",
       "      <td>Rhetoric/Composition 2011</td>\n",
       "      <td>2011</td>\n",
       "      <td>Rhetoric/Composition_2011</td>\n",
       "      <td>Rhetoric/Composition</td>\n",
       "    </tr>\n",
       "    <tr>\n",
       "      <th>11</th>\n",
       "      <td>Rhetoric/Composition 2012</td>\n",
       "      <td>2012</td>\n",
       "      <td>Rhetoric/Composition_2012</td>\n",
       "      <td>Rhetoric/Composition</td>\n",
       "    </tr>\n",
       "    <tr>\n",
       "      <th>12</th>\n",
       "      <td>Rhetoric/Composition 2012</td>\n",
       "      <td>2012</td>\n",
       "      <td>Rhetoric/Composition_Salaries_2012-13</td>\n",
       "      <td>Rhetoric/Composition Salaries</td>\n",
       "    </tr>\n",
       "    <tr>\n",
       "      <th>23</th>\n",
       "      <td>Rhetoric/Composition 2013</td>\n",
       "      <td>2013</td>\n",
       "      <td>Rhetoric/Composition_2013</td>\n",
       "      <td>Rhetoric/Composition</td>\n",
       "    </tr>\n",
       "    <tr>\n",
       "      <th>26</th>\n",
       "      <td>Rhetoric/Composition 2013</td>\n",
       "      <td>2013</td>\n",
       "      <td>Rhetoric/Composition_Salaries_for_AY_2013-14</td>\n",
       "      <td>Rhetoric/Composition Salaries for AY</td>\n",
       "    </tr>\n",
       "    <tr>\n",
       "      <th>33</th>\n",
       "      <td>Rhetoric/Composition 2014</td>\n",
       "      <td>2014</td>\n",
       "      <td>Rhetoric/Composition_2014</td>\n",
       "      <td>Rhetoric/Composition</td>\n",
       "    </tr>\n",
       "    <tr>\n",
       "      <th>36</th>\n",
       "      <td>Rhetoric/Composition 2014</td>\n",
       "      <td>2014</td>\n",
       "      <td>Rhetoric/Composition_Salaries_for_AY_2014-15</td>\n",
       "      <td>Rhetoric/Composition Salaries for AY</td>\n",
       "    </tr>\n",
       "    <tr>\n",
       "      <th>42</th>\n",
       "      <td>Rhetoric/Composition 2014</td>\n",
       "      <td>2014</td>\n",
       "      <td>Environmental_2014#Christopher_Newport_Univers...</td>\n",
       "      <td>Environmental 2014#Christopher Newport Univers...</td>\n",
       "    </tr>\n",
       "    <tr>\n",
       "      <th>43</th>\n",
       "      <td>Rhetoric/Composition 2014</td>\n",
       "      <td>2014</td>\n",
       "      <td>New_Media_and_Digital_Humanities_2014#Clemson_...</td>\n",
       "      <td>New Media and Digital Humanities 2014#Clemson ...</td>\n",
       "    </tr>\n",
       "    <tr>\n",
       "      <th>51</th>\n",
       "      <td>Rhetoric/Composition 2014</td>\n",
       "      <td>2014</td>\n",
       "      <td>Queer/Women%27s/Gender_Studies_2014#Texas_A.26...</td>\n",
       "      <td>Queer/Women%27s/Gender Studies 2014#Texas A.26...</td>\n",
       "    </tr>\n",
       "    <tr>\n",
       "      <th>53</th>\n",
       "      <td>Rhetoric/Composition 2014</td>\n",
       "      <td>2014</td>\n",
       "      <td>Environmental_2014#University_of_Kansas_-_Asst...</td>\n",
       "      <td>Environmental 2014#University of Kansas - Asst...</td>\n",
       "    </tr>\n",
       "    <tr>\n",
       "      <th>57</th>\n",
       "      <td>Rhetoric/Composition 2015</td>\n",
       "      <td>2015</td>\n",
       "      <td>Rhetoric/Composition_2015</td>\n",
       "      <td>Rhetoric/Composition</td>\n",
       "    </tr>\n",
       "    <tr>\n",
       "      <th>60</th>\n",
       "      <td>Rhetoric/Composition 2015</td>\n",
       "      <td>2015</td>\n",
       "      <td>Rhetoric/Composition_Salaries_for_AY_2015-16</td>\n",
       "      <td>Rhetoric/Composition Salaries for AY</td>\n",
       "    </tr>\n",
       "    <tr>\n",
       "      <th>67</th>\n",
       "      <td>Rhetoric/Composition 2016</td>\n",
       "      <td>2016</td>\n",
       "      <td>Rhetoric/Composition_2016</td>\n",
       "      <td>Rhetoric/Composition</td>\n",
       "    </tr>\n",
       "    <tr>\n",
       "      <th>70</th>\n",
       "      <td>Rhetoric/Composition 2016</td>\n",
       "      <td>2016</td>\n",
       "      <td>Rhetoric/Composition_Salaries_for_AY_2016-17</td>\n",
       "      <td>Rhetoric/Composition Salaries for AY</td>\n",
       "    </tr>\n",
       "    <tr>\n",
       "      <th>80</th>\n",
       "      <td>Rhetoric/Composition 2017</td>\n",
       "      <td>2017</td>\n",
       "      <td>Rhetoric/Composition_2017</td>\n",
       "      <td>Rhetoric/Composition</td>\n",
       "    </tr>\n",
       "    <tr>\n",
       "      <th>91</th>\n",
       "      <td>Rhetoric/Composition 2018</td>\n",
       "      <td>2018</td>\n",
       "      <td>Rhetoric/Composition_2018</td>\n",
       "      <td>Rhetoric/Composition</td>\n",
       "    </tr>\n",
       "    <tr>\n",
       "      <th>110</th>\n",
       "      <td>Rhetoric/Composition 2019</td>\n",
       "      <td>2019</td>\n",
       "      <td>Rhetoric/Composition_2019</td>\n",
       "      <td>Rhetoric/Composition</td>\n",
       "    </tr>\n",
       "    <tr>\n",
       "      <th>125</th>\n",
       "      <td>Rhetoric/Composition 2020</td>\n",
       "      <td>2020</td>\n",
       "      <td>Rhetoric/Composition_2020</td>\n",
       "      <td>Rhetoric/Composition</td>\n",
       "    </tr>\n",
       "  </tbody>\n",
       "</table>\n",
       "</div>"
      ],
      "text/plain": [
       "                     disc_page  year  \\\n",
       "0    Rhetoric/Composition 2011  2011   \n",
       "2    Rhetoric/Composition 2011  2011   \n",
       "11   Rhetoric/Composition 2012  2012   \n",
       "12   Rhetoric/Composition 2012  2012   \n",
       "23   Rhetoric/Composition 2013  2013   \n",
       "26   Rhetoric/Composition 2013  2013   \n",
       "33   Rhetoric/Composition 2014  2014   \n",
       "36   Rhetoric/Composition 2014  2014   \n",
       "42   Rhetoric/Composition 2014  2014   \n",
       "43   Rhetoric/Composition 2014  2014   \n",
       "51   Rhetoric/Composition 2014  2014   \n",
       "53   Rhetoric/Composition 2014  2014   \n",
       "57   Rhetoric/Composition 2015  2015   \n",
       "60   Rhetoric/Composition 2015  2015   \n",
       "67   Rhetoric/Composition 2016  2016   \n",
       "70   Rhetoric/Composition 2016  2016   \n",
       "80   Rhetoric/Composition 2017  2017   \n",
       "91   Rhetoric/Composition 2018  2018   \n",
       "110  Rhetoric/Composition 2019  2019   \n",
       "125  Rhetoric/Composition 2020  2020   \n",
       "\n",
       "                                                  page  \\\n",
       "0    Rhetoric/Composition_Positions_and_Salaries_20...   \n",
       "2                            Rhetoric/Composition_2011   \n",
       "11                           Rhetoric/Composition_2012   \n",
       "12               Rhetoric/Composition_Salaries_2012-13   \n",
       "23                           Rhetoric/Composition_2013   \n",
       "26        Rhetoric/Composition_Salaries_for_AY_2013-14   \n",
       "33                           Rhetoric/Composition_2014   \n",
       "36        Rhetoric/Composition_Salaries_for_AY_2014-15   \n",
       "42   Environmental_2014#Christopher_Newport_Univers...   \n",
       "43   New_Media_and_Digital_Humanities_2014#Clemson_...   \n",
       "51   Queer/Women%27s/Gender_Studies_2014#Texas_A.26...   \n",
       "53   Environmental_2014#University_of_Kansas_-_Asst...   \n",
       "57                           Rhetoric/Composition_2015   \n",
       "60        Rhetoric/Composition_Salaries_for_AY_2015-16   \n",
       "67                           Rhetoric/Composition_2016   \n",
       "70        Rhetoric/Composition_Salaries_for_AY_2016-17   \n",
       "80                           Rhetoric/Composition_2017   \n",
       "91                           Rhetoric/Composition_2018   \n",
       "110                          Rhetoric/Composition_2019   \n",
       "125                          Rhetoric/Composition_2020   \n",
       "\n",
       "                                            page_group  \n",
       "0          Rhetoric/Composition Positions and Salaries  \n",
       "2                                 Rhetoric/Composition  \n",
       "11                                Rhetoric/Composition  \n",
       "12                       Rhetoric/Composition Salaries  \n",
       "23                                Rhetoric/Composition  \n",
       "26                Rhetoric/Composition Salaries for AY  \n",
       "33                                Rhetoric/Composition  \n",
       "36                Rhetoric/Composition Salaries for AY  \n",
       "42   Environmental 2014#Christopher Newport Univers...  \n",
       "43   New Media and Digital Humanities 2014#Clemson ...  \n",
       "51   Queer/Women%27s/Gender Studies 2014#Texas A.26...  \n",
       "53   Environmental 2014#University of Kansas - Asst...  \n",
       "57                                Rhetoric/Composition  \n",
       "60                Rhetoric/Composition Salaries for AY  \n",
       "67                                Rhetoric/Composition  \n",
       "70                Rhetoric/Composition Salaries for AY  \n",
       "80                                Rhetoric/Composition  \n",
       "91                                Rhetoric/Composition  \n",
       "110                               Rhetoric/Composition  \n",
       "125                               Rhetoric/Composition  "
      ]
     },
     "execution_count": 30,
     "metadata": {},
     "output_type": "execute_result"
    }
   ],
   "source": [
    "# Testing\n",
    "df_pages[df_pages.page.str.contains('Rhetoric')]"
   ]
  },
  {
   "cell_type": "markdown",
   "metadata": {},
   "source": [
    "## Print pages for readme"
   ]
  },
  {
   "cell_type": "code",
   "execution_count": 31,
   "metadata": {
    "scrolled": true
   },
   "outputs": [
    {
     "name": "stdout",
     "output_type": "stream",
     "text": [
      "* 20-21 c. American: [2018](https://academicjobs.wikia.org/wiki/20-21_c._American_2018)\n",
      "* African American: [2018](https://academicjobs.wikia.org/wiki/African_American_2018)\n",
      "* American Open: [2015](https://academicjobs.wikia.org/wiki/American_Open_2015) | [2017](https://academicjobs.wikia.org/wiki/American_Open_2017) | [2018](https://academicjobs.wikia.org/wiki/American_Open_2018)\n",
      "* American Studies: [2012](https://academicjobs.wikia.org/wiki/American_Studies_2012) | [2013](https://academicjobs.wikia.org/wiki/American_Studies_2013) | [2017](https://academicjobs.wikia.org/wiki/American_Studies_2017)\n",
      "* Anglophone: [2016](https://academicjobs.wikia.org/wiki/Anglophone_2016) | [2017](https://academicjobs.wikia.org/wiki/Anglophone_2017) | [2019](https://academicjobs.wikia.org/wiki/Anglophone_2019)\n",
      "* British Open: [2016](https://academicjobs.wikia.org/wiki/British_Open_2016)\n",
      "* Children's: [2011](https://academicjobs.wikia.org/wiki/Children%27s_2011) | [2012](https://academicjobs.wikia.org/wiki/Children%27s_2012) | [2014](https://academicjobs.wikia.org/wiki/Children%27s_2014) | [2015](https://academicjobs.wikia.org/wiki/Children%27s_2015) | [2016](https://academicjobs.wikia.org/wiki/Children%27s_2016)\n",
      "* Communication and Media Studies: [2020](https://academicjobs.wikia.org/wiki/Communication_and_Media_Studies_2020-2021)\n",
      "* Community Colleges: [2014](https://academicjobs.wikia.org/wiki/Community_Colleges_2014) | [2015](https://academicjobs.wikia.org/wiki/Community_Colleges_2015) | [2016](https://academicjobs.wikia.org/wiki/Community_Colleges_2016) | [2017](https://academicjobs.wikia.org/wiki/Community_Colleges_2017) | [2018](https://academicjobs.wikia.org/wiki/Community_Colleges_2018) | [2019](https://academicjobs.wikia.org/wiki/Community_Colleges_2019)\n",
      "* Comparative: [2011](https://academicjobs.wikia.org/wiki/Comparative_2011) | [2012](https://academicjobs.wikia.org/wiki/Comparative_2012) | [2016](https://academicjobs.wikia.org/wiki/Comparative_2016) | [2017](https://academicjobs.wikia.org/wiki/Comparative_2017)\n",
      "* Comparative Literature: [2020](https://academicjobs.wikia.org/wiki/Comparative_Literature_2020-2021)\n",
      "* Creative Writing: [2019](https://academicjobs.wikia.org/wiki/Creative_Writing_2019)\n",
      "* CreativeWriting: [2011](https://academicjobs.wikia.org/wiki/CreativeWriting_2011) | [2012](https://academicjobs.wikia.org/wiki/CreativeWriting_2012) | [2013](https://academicjobs.wikia.org/wiki/CreativeWriting_2013) | [2014](https://academicjobs.wikia.org/wiki/CreativeWriting_2014) | [2015](https://academicjobs.wikia.org/wiki/CreativeWriting_2015) | [2016](https://academicjobs.wikia.org/wiki/CreativeWriting_2016) | [2017](https://academicjobs.wikia.org/wiki/CreativeWriting_2017) | [2018](https://academicjobs.wikia.org/wiki/CreativeWriting_2018)\n",
      "* CreativeWriting 2014#University of Wisconsin-Rock County - TT Asst. Professor of English .28First Year Writing .2F Creative: [Writing.29](https://academicjobs.wikia.org/wiki/CreativeWriting_2014#University_of_Wisconsin-Rock_County_-_TT_Asst._Professor_of_English_.28First_Year_Writing_.2F_Creative_Writing.29)\n",
      "* Drama, Speech, Film & New Media: [2011](https://academicjobs.wikia.org/wiki/Drama,_Speech,_Film_%26_New_Media_2011)\n",
      "* English Literature: [2013](https://academicjobs.wikia.org/wiki/English_Literature_2013)\n",
      "* Environmental: [2011](https://academicjobs.wikia.org/wiki/Environmental_2011)\n",
      "* Environmental 2014#Christopher Newport University - Lecturer in English .28Environmental Rhetoric .26 Science Writing.29: [.5BFull](https://academicjobs.wikia.org/wiki/Environmental_2014#Christopher_Newport_University_-_Lecturer_in_English_.28Environmental_Rhetoric_.26_Science_Writing.29_.5BFull-Time.2FNon-TT.5D)\n",
      "* Environmental 2014#University of Kansas - Asst. Professor.2C Environmental: [Rhetoric](https://academicjobs.wikia.org/wiki/Environmental_2014#University_of_Kansas_-_Asst._Professor.2C_Environmental_Rhetoric)\n",
      "* Generalist: [2011](https://academicjobs.wikia.org/wiki/Generalist_2011) | [2012](https://academicjobs.wikia.org/wiki/Generalist_2012) | [2013](https://academicjobs.wikia.org/wiki/Generalist_2013) | [2014](https://academicjobs.wikia.org/wiki/Generalist_2014) | [2015](https://academicjobs.wikia.org/wiki/Generalist_2015) | [2016](https://academicjobs.wikia.org/wiki/Generalist_2016) | [2017](https://academicjobs.wikia.org/wiki/Generalist_2017) | [2018](https://academicjobs.wikia.org/wiki/Generalist_2018) | [2019](https://academicjobs.wikia.org/wiki/Generalist_2019)\n",
      "* Generalist 2014#Albany State University .28GA.29 - TT Asst. Professor of: [English](https://academicjobs.wikia.org/wiki/Generalist_2014#Albany_State_University_.28GA.29_-_TT_Asst._Professor_of_English)\n",
      "* Generalist 2014#Embry-Riddle University.2C.C2.A0Daytona Beach Campus - TT.C2.A0Assistant Professor of Composition and: [Humanities.C2.A0](https://academicjobs.wikia.org/wiki/Generalist_2014#Embry-Riddle_University.2C.C2.A0Daytona_Beach_Campus_-_TT.C2.A0Assistant_Professor_of_Composition_and_Humanities.C2.A0)\n",
      "* Generalist 2014#Holy Family University .28PA.29 - Asst. Professor of: [Writing](https://academicjobs.wikia.org/wiki/Generalist_2014#Holy_Family_University_.28PA.29_-_Asst._Professor_of_Writing)\n",
      "* Generalist 2014#Holy Names University .28CA.29 - TT Asst. Professor of: [English](https://academicjobs.wikia.org/wiki/Generalist_2014#Holy_Names_University_.28CA.29_-_TT_Asst._Professor_of_English)\n",
      "* Generalist 2014#Moravian College .28PA.29 - TT Assistant Professor of: [English](https://academicjobs.wikia.org/wiki/Generalist_2014#Moravian_College_.28PA.29_-_TT_Assistant_Professor_of_English)\n",
      "* Generalist 2014#Pfeiffer University .28NC.29 - Assistant.2FAssociate Professor of: [English](https://academicjobs.wikia.org/wiki/Generalist_2014#Pfeiffer_University_.28NC.29_-_Assistant.2FAssociate_Professor_of_English)\n",
      "* Generalist 2014#William Paterson University .28NJ.29 - Assistant Professor of: [English](https://academicjobs.wikia.org/wiki/Generalist_2014#William_Paterson_University_.28NJ.29_-_Assistant_Professor_of_English)\n",
      "* German: [2020](https://academicjobs.wikia.org/wiki/German_2020-2021)\n",
      "* Humanities and Social Sciences Postdocs: [2020](https://academicjobs.wikia.org/wiki/Humanities_and_Social_Sciences_Postdocs_2020-2021)\n",
      "* Medieval: [2012](https://academicjobs.wikia.org/wiki/Medieval_2012) | [2013](https://academicjobs.wikia.org/wiki/Medieval_2013) | [2018](https://academicjobs.wikia.org/wiki/Medieval_2018)\n",
      "* Modern British: [2018](https://academicjobs.wikia.org/wiki/Modern_British_2018)\n",
      "* Music Theory/Composition: [2020](https://academicjobs.wikia.org/wiki/Music_Theory/Composition_2020-21)\n",
      "* New Media & Digital Humanities: [2013](https://academicjobs.wikia.org/wiki/New_Media_%26_Digital_Humanities_2013)\n",
      "* New Media and Digital Humanities: [2014](https://academicjobs.wikia.org/wiki/New_Media_and_Digital_Humanities_2014) | [2015](https://academicjobs.wikia.org/wiki/New_Media_and_Digital_Humanities_2015) | [2016](https://academicjobs.wikia.org/wiki/New_Media_and_Digital_Humanities_2016) | [2017](https://academicjobs.wikia.org/wiki/New_Media_and_Digital_Humanities_2017) | [2018](https://academicjobs.wikia.org/wiki/New_Media_and_Digital_Humanities_2018) | [2019](https://academicjobs.wikia.org/wiki/New_Media_and_Digital_Humanities_2019) | [2020](https://academicjobs.wikia.org/wiki/New_Media_and_Digital_Humanities_2020)\n",
      "* New Media and Digital Humanities 2014#Clemson University .28SC.29 - Digital Rhetorics.2C Comparative Media.2C and Civic Culture .28Two TT: [Positions.29](https://academicjobs.wikia.org/wiki/New_Media_and_Digital_Humanities_2014#Clemson_University_.28SC.29_-_Digital_Rhetorics.2C_Comparative_Media.2C_and_Civic_Culture_.28Two_TT_Positions.29)\n",
      "* New Media and Digital Humanities 2014#Dakota State University - TT Asst. Professor of: [English](https://academicjobs.wikia.org/wiki/New_Media_and_Digital_Humanities_2014#Dakota_State_University_-_TT_Asst._Professor_of_English)\n",
      "* New Media and Digital Humanities 2014#Saint Joseph.27s University .28PA.29 - TT Assistant Professor of Communication and Digital Media .282: [Positions.29](https://academicjobs.wikia.org/wiki/New_Media_and_Digital_Humanities_2014#Saint_Joseph.27s_University_.28PA.29_-_TT_Assistant_Professor_of_Communication_and_Digital_Media_.282_Positions.29)\n",
      "* New Media and Digital Humanities 2014#Visiting Positions .2F: [Postdocs](https://academicjobs.wikia.org/wiki/New_Media_and_Digital_Humanities_2014#Visiting_Positions_.2F_Postdocs)\n",
      "* Other Ethnic American: [2017](https://academicjobs.wikia.org/wiki/Other_Ethnic_American_2017) | [2018](https://academicjobs.wikia.org/wiki/Other_Ethnic_American_2018)\n",
      "* Philosophy: [2020](https://academicjobs.wikia.org/wiki/Philosophy_2020-2021)\n",
      "* Queer/Women's/Gender Studies: [2012](https://academicjobs.wikia.org/wiki/Queer/Women%27s/Gender_Studies_2012) | [2015](https://academicjobs.wikia.org/wiki/Queer/Women%27s/Gender_Studies_2015)\n",
      "* Queer/Women's/Gender Studies 2014#Texas A.26M - TT Advanced Assistant Professor.2C Gender and Sexuality Studies with an Emphasis in: [Rhetoric](https://academicjobs.wikia.org/wiki/Queer/Women%27s/Gender_Studies_2014#Texas_A.26M_-_TT_Advanced_Assistant_Professor.2C_Gender_and_Sexuality_Studies_with_an_Emphasis_in_Rhetoric)\n",
      "* Renaissance: [2012](https://academicjobs.wikia.org/wiki/Renaissance_2012) | [2016](https://academicjobs.wikia.org/wiki/Renaissance_2016) | [2018](https://academicjobs.wikia.org/wiki/Renaissance_2018)\n",
      "* Restoration/18th-Century: [2016](https://academicjobs.wikia.org/wiki/Restoration/18th-Century_2016)\n",
      "* Rhetoric/Composition: [2011](https://academicjobs.wikia.org/wiki/Rhetoric/Composition_2011) | [2012](https://academicjobs.wikia.org/wiki/Rhetoric/Composition_2012) | [2013](https://academicjobs.wikia.org/wiki/Rhetoric/Composition_2013) | [2014](https://academicjobs.wikia.org/wiki/Rhetoric/Composition_2014) | [2015](https://academicjobs.wikia.org/wiki/Rhetoric/Composition_2015) | [2016](https://academicjobs.wikia.org/wiki/Rhetoric/Composition_2016) | [2017](https://academicjobs.wikia.org/wiki/Rhetoric/Composition_2017) | [2018](https://academicjobs.wikia.org/wiki/Rhetoric/Composition_2018) | [2019](https://academicjobs.wikia.org/wiki/Rhetoric/Composition_2019) | [2020](https://academicjobs.wikia.org/wiki/Rhetoric/Composition_2020)\n",
      "* Rhetoric/Composition Positions and Salaries: [2011](https://academicjobs.wikia.org/wiki/Rhetoric/Composition_Positions_and_Salaries_2011-12)\n",
      "* Rhetoric/Composition Salaries: [2012](https://academicjobs.wikia.org/wiki/Rhetoric/Composition_Salaries_2012-13)\n",
      "* Rhetoric/Composition Salaries for AY: [2013](https://academicjobs.wikia.org/wiki/Rhetoric/Composition_Salaries_for_AY_2013-14) | [2014](https://academicjobs.wikia.org/wiki/Rhetoric/Composition_Salaries_for_AY_2014-15) | [2015](https://academicjobs.wikia.org/wiki/Rhetoric/Composition_Salaries_for_AY_2015-16) | [2016](https://academicjobs.wikia.org/wiki/Rhetoric/Composition_Salaries_for_AY_2016-17)\n",
      "* Romanticism/Victorian/19th: [2019](https://academicjobs.wikia.org/wiki/Romanticism/Victorian/19th_2019)\n",
      "* Social Work: [2020](https://academicjobs.wikia.org/wiki/Social_Work_2020-2021)\n",
      "* Spanish and Portuguese: [2020](https://academicjobs.wikia.org/wiki/Spanish_and_Portuguese_2020-2021)\n",
      "* TESOL / Applied Linguistics: [2012](https://academicjobs.wikia.org/wiki/TESOL_/_Applied_Linguistics_2012) | [2013](https://academicjobs.wikia.org/wiki/TESOL_/_Applied_Linguistics_2013)\n",
      "* TESOL/Applied Linguistics: [2011](https://academicjobs.wikia.org/wiki/TESOL/Applied_Linguistics_2011)\n",
      "* Theory: [2014](https://academicjobs.wikia.org/wiki/Theory_2014)\n"
     ]
    }
   ],
   "source": [
    "for pg,pgdf in sorted(df_pages.groupby('page_group')):\n",
    "    print(f'''* {pg.replace(\"%26\",'&').replace('%27',\"'\")}:''',end=' ')\n",
    "    yrs=[]\n",
    "    for dp in sorted(pgdf.page):\n",
    "        yrs+=[f'''[{dp.split(\"_\")[-1].split(\"-\")[0]}](https://academicjobs.wikia.org/wiki/{dp.replace(\" \",\"_\")})''']\n",
    "    print(' | '.join(yrs))"
   ]
  },
  {
   "cell_type": "markdown",
   "metadata": {
    "id": "Kvl1hlRSUa-w"
   },
   "source": [
    "## Step 3: Processing pages"
   ]
  },
  {
   "cell_type": "code",
   "execution_count": 32,
   "metadata": {
    "id": "pD-tR1z4qQp1"
   },
   "outputs": [],
   "source": [
    "def decide_if_school(title,content):\n",
    "    title=str(title) + ' ' + str(content)\n",
    "    #if title in not_unis: return 'n'\n",
    "    if 'College' in title: return 'y'\n",
    "    if 'Universit' in title: return 'y'\n",
    "    if 'UC ' in title: return 'y'\n",
    "    if 'Department ' in title: return 'y'\n",
    "    if 'Faculty ' in title: return 'y'\n",
    "    if 'Demographics' in title: return 'n'\n",
    "    if 'State' in title: return 'y'\n",
    "    if any([ (w.startswith('(') and w.endswith(')') and w.upper()==w)   for w in title.split()]): return 'y'\n",
    "    if '<b>' in title: return 'n'\n",
    "    return ''"
   ]
  },
  {
   "cell_type": "code",
   "execution_count": 33,
   "metadata": {
    "id": "G52GCJgKqRsL"
   },
   "outputs": [],
   "source": [
    "def decide_if_tt(title,ad,nowtt):\n",
    "    if ' TT ' in title: return 'y'\n",
    "    if 'Lecturer' in title.split() or 'Visiting Assistant Professor' in title: return 'n'\n",
    "    if nowtt is not None: return 'y' if nowtt else 'n'\n",
    "\n",
    "    if \"Visiting Assistant Professor\" in ad: return 'n'\n",
    "    if \"tenure-track\" in ad.lower() or \"tenure Track\" in ad.lower(): return \"y\"\n",
    "    if \"Assistant Professor\" in ad or \"Associate Professor\" in ad or \"Full Professor\" in ad: return \"y\"\n",
    "    \n",
    "    return ''"
   ]
  },
  {
   "cell_type": "code",
   "execution_count": 34,
   "metadata": {
    "id": "AzQEe1rR-4Hy"
   },
   "outputs": [],
   "source": [
    "def decide_job_type(IsTT,page_name):\n",
    "    if IsTT=='y': return 'TT'\n",
    "    if 'Postdoc' in page_name: return 'Postdoc'\n",
    "    if IsTT=='n': return 'Non-TT'\n",
    "    return 'Unknown'"
   ]
  },
  {
   "cell_type": "code",
   "execution_count": 35,
   "metadata": {
    "id": "G42UpAfznFmU"
   },
   "outputs": [],
   "source": [
    "bad_domains = ['bit.ly','fandom','youtube']\n",
    "\n",
    "def parse_section(section_dom,section_title,now_isTT,page_name):\n",
    "    section_content=section_dom.text.replace('Edit\\n','')\n",
    "    #print('\\n'*5)\n",
    "    \n",
    "    from urllib.parse import urlsplit\n",
    "    \n",
    "    links = []\n",
    "    for a in section_dom('a'):\n",
    "        try:\n",
    "            href=a['href']\n",
    "        except KeyError:\n",
    "            continue\n",
    "            \n",
    "        if '/wiki/' in href: continue\n",
    "        urldat=urlsplit(href)\n",
    "        if not urldat.path: continue\n",
    "        #link=urldat.netloc + urldat.path\n",
    "        link=href\n",
    "        \n",
    "        if any([domain in link for domain in bad_domains]): continue\n",
    "        links+=[link]\n",
    "    \n",
    "    if not section_content: return\n",
    "    \n",
    "    # save data for this job\n",
    "    row = {}\n",
    "    row['section_content'] = section_content.replace('[edit | edit source]','').strip().replace('\\n\\n','\\n').replace('\\n\\n','\\n').replace('\\n\\n','\\n')\n",
    "    row['section_links'] = ' | '.join(links)\n",
    "    row['section_title'] = bs4.BeautifulSoup(section_title).text\n",
    "    row['IsTT'] = decide_if_tt(row['section_title'], row['section_content'], now_isTT)\n",
    "    row['IsUni'] = decide_if_school(section_title,row['section_content']) # if row['IsTT']!='y' else 'y'\n",
    "    row['JobType'] = decide_job_type(row['IsTT'], page_name)\n",
    "    row['JobID'] = row['section_links'] if row['section_links'] else row['section_title']\n",
    "    return row\n",
    "\n",
    "\n",
    "def process_page(page_name):\n",
    "    # get page\n",
    "    page_name_q = page_name.replace('%26','&').replace('%27',\"'\")\n",
    "    page_name_safe = page_name_q.replace('/','_')\n",
    "    cachefn=f'cache/{page_name_safe}.html'\n",
    "    if not os.path.exists(cachefn):\n",
    "        page = wikia.page(WIKI_NAME, page_name_q)\n",
    "        # get html\n",
    "        html=page.html()\n",
    "    else:\n",
    "#         print('Using cache')\n",
    "        with open(cachefn) as f: html=f.read()\n",
    "    \n",
    "    \n",
    "    # start data\n",
    "    data = []\n",
    "    now_isTT=None\n",
    "    for section in html.split('mw-headline')[1:]:\n",
    "        section_title=section.split('</span>')[0].split('\">')[-1].strip()\n",
    "        if 'RECENT ACTIVITY' in section_title: continue\n",
    "        if 'Demographics' in section_title: continue\n",
    "        if 'Instructions' in section_title: continue\n",
    "        if 'Word on the Street' in section_title: continue\n",
    "        if 'Tenure-Track Positions' in section_title:\n",
    "            now_isTT=True\n",
    "            continue\n",
    "        if 'Visiting Positions' in section_title:\n",
    "            now_isTT=False\n",
    "            continue\n",
    "        if section_title.startswith('Humanities and Social Sciences Postdocs'):\n",
    "            #now_isTT=False\n",
    "            continue\n",
    "        \n",
    "        if page_name in {'Spanish_and_Portuguese_2020-2021','Film_Studies_2020-2021','French_%26_Francophone_2020-2021'}:\n",
    "            # these use a different format for no reason!\n",
    "            for ol in bs4.BeautifulSoup(section)('ol'):\n",
    "                for p in ol('li'):\n",
    "                    if '<b>' in str(p):\n",
    "                        section_title_p=list(p('b'))[0].text\n",
    "                        row=parse_section(p,section_title_p,None,page_name)\n",
    "                        data.append(row)\n",
    "        elif section_title.startswith('Jobs with 2020') or section_title.startswith('Jobs with 2021'):   # 2020 changed format!?\n",
    "            for p in bs4.BeautifulSoup(section)('p'):\n",
    "                if '<b>' in str(p):\n",
    "                    section_title_p=list(p('b'))[0].text\n",
    "                    row=parse_section(p,section_title_p,None,page_name)\n",
    "                    data.append(row)\n",
    "        else:\n",
    "            section_dom=bs4.BeautifulSoup(section.split('</span>',1)[-1])\n",
    "            row=parse_section(section_dom,section_title,now_isTT,page_name)\n",
    "            data.append(row)\n",
    "    return [d for d in data if d]"
   ]
  },
  {
   "cell_type": "markdown",
   "metadata": {
    "id": "pwZODsKO38SM"
   },
   "source": [
    "## Step 4: Gathering all pages' data"
   ]
  },
  {
   "cell_type": "code",
   "execution_count": 36,
   "metadata": {
    "id": "nd1pd2IwoJKk"
   },
   "outputs": [],
   "source": [
    "# Get all pages' data!!!!\n",
    "def get_all_data():\n",
    "    data_ld=[]\n",
    "    all_pages=list(df_pages.page)\n",
    "    for i,page in enumerate(tqdm(sorted(all_pages))):\n",
    "        try:\n",
    "            page_data = process_page(page)\n",
    "        except WikiaError as e:\n",
    "            continue\n",
    "        if not page_data: continue\n",
    "        #datadx={**page_data, **{'page':page}}\n",
    "        for dx in page_data:\n",
    "            if not dx: continue\n",
    "            dx['page']=page\n",
    "            data_ld.append(dx)\n",
    "    return pd.DataFrame(data_ld)"
   ]
  },
  {
   "cell_type": "code",
   "execution_count": 37,
   "metadata": {
    "colab": {
     "base_uri": "https://localhost:8080/"
    },
    "id": "JvBvjkd5q2QB",
    "outputId": "ef5cbc75-328e-4054-8ef1-3ee05d5a2dcc"
   },
   "outputs": [
    {
     "name": "stderr",
     "output_type": "stream",
     "text": [
      "100%|██████████| 112/112 [02:13<00:00,  1.19s/it]\n"
     ]
    },
    {
     "data": {
      "text/html": [
       "<div>\n",
       "<style scoped>\n",
       "    .dataframe tbody tr th:only-of-type {\n",
       "        vertical-align: middle;\n",
       "    }\n",
       "\n",
       "    .dataframe tbody tr th {\n",
       "        vertical-align: top;\n",
       "    }\n",
       "\n",
       "    .dataframe thead th {\n",
       "        text-align: right;\n",
       "    }\n",
       "</style>\n",
       "<table border=\"1\" class=\"dataframe\">\n",
       "  <thead>\n",
       "    <tr style=\"text-align: right;\">\n",
       "      <th></th>\n",
       "      <th>section_content</th>\n",
       "      <th>section_links</th>\n",
       "      <th>section_title</th>\n",
       "      <th>IsTT</th>\n",
       "      <th>IsUni</th>\n",
       "      <th>JobType</th>\n",
       "      <th>JobID</th>\n",
       "      <th>page</th>\n",
       "    </tr>\n",
       "  </thead>\n",
       "  <tbody>\n",
       "    <tr>\n",
       "      <th>0</th>\n",
       "      <td>Adelphi University is seeking applicants for a...</td>\n",
       "      <td>http://www.adelphi.edu/positions/faculty</td>\n",
       "      <td>Adelphi University (NY) - TT Assistant Profess...</td>\n",
       "      <td>y</td>\n",
       "      <td>y</td>\n",
       "      <td>TT</td>\n",
       "      <td>http://www.adelphi.edu/positions/faculty</td>\n",
       "      <td>20-21_c._American_2018</td>\n",
       "    </tr>\n",
       "    <tr>\n",
       "      <th>1</th>\n",
       "      <td>Two Tenure-Track Assistant Professor Positions...</td>\n",
       "      <td>https://apply.interfolio.com/45917</td>\n",
       "      <td>Beloit College (WI) - TT Asst. Professor - 20t...</td>\n",
       "      <td>y</td>\n",
       "      <td>y</td>\n",
       "      <td>TT</td>\n",
       "      <td>https://apply.interfolio.com/45917</td>\n",
       "      <td>20-21_c._American_2018</td>\n",
       "    </tr>\n",
       "    <tr>\n",
       "      <th>2</th>\n",
       "      <td>Bucknell University’s Department of Women’s an...</td>\n",
       "      <td>http://careers.bucknell.edu/cw/en-us/job/49379...</td>\n",
       "      <td>Bucknell University (PA) - TT Asst. Professor ...</td>\n",
       "      <td>y</td>\n",
       "      <td>y</td>\n",
       "      <td>TT</td>\n",
       "      <td>http://careers.bucknell.edu/cw/en-us/job/49379...</td>\n",
       "      <td>20-21_c._American_2018</td>\n",
       "    </tr>\n",
       "    <tr>\n",
       "      <th>3</th>\n",
       "      <td>The English Department, within Wilkinson Colle...</td>\n",
       "      <td>https://www.indeed.com/viewjob?jk=0988b9d4faed...</td>\n",
       "      <td>Chapman University (CA) - TT Asst. Professor i...</td>\n",
       "      <td>y</td>\n",
       "      <td>y</td>\n",
       "      <td>TT</td>\n",
       "      <td>https://www.indeed.com/viewjob?jk=0988b9d4faed...</td>\n",
       "      <td>20-21_c._American_2018</td>\n",
       "    </tr>\n",
       "    <tr>\n",
       "      <th>4</th>\n",
       "      <td>Posting ID: 16027\\nCategory: Tenure-track\\nDep...</td>\n",
       "      <td>http://www.claremontmckenna.edu/lit/ | https:/...</td>\n",
       "      <td>Claremont McKenna College (CA) - TT Assistant ...</td>\n",
       "      <td>y</td>\n",
       "      <td>y</td>\n",
       "      <td>TT</td>\n",
       "      <td>http://www.claremontmckenna.edu/lit/ | https:/...</td>\n",
       "      <td>20-21_c._American_2018</td>\n",
       "    </tr>\n",
       "    <tr>\n",
       "      <th>...</th>\n",
       "      <td>...</td>\n",
       "      <td>...</td>\n",
       "      <td>...</td>\n",
       "      <td>...</td>\n",
       "      <td>...</td>\n",
       "      <td>...</td>\n",
       "      <td>...</td>\n",
       "      <td>...</td>\n",
       "    </tr>\n",
       "    <tr>\n",
       "      <th>9309</th>\n",
       "      <td>The Department of Bicultural-Bilingual Studies...</td>\n",
       "      <td></td>\n",
       "      <td>University of Texas San Antonio</td>\n",
       "      <td></td>\n",
       "      <td>y</td>\n",
       "      <td>Unknown</td>\n",
       "      <td>University of Texas San Antonio</td>\n",
       "      <td>TESOL_/_Applied_Linguistics_2013</td>\n",
       "    </tr>\n",
       "    <tr>\n",
       "      <th>9310</th>\n",
       "      <td>The Department of Teacher Education and Higher...</td>\n",
       "      <td></td>\n",
       "      <td>University of North Carolina at Greensboro</td>\n",
       "      <td>y</td>\n",
       "      <td>y</td>\n",
       "      <td>TT</td>\n",
       "      <td>University of North Carolina at Greensboro</td>\n",
       "      <td>TESOL_/_Applied_Linguistics_2013</td>\n",
       "    </tr>\n",
       "    <tr>\n",
       "      <th>9311</th>\n",
       "      <td>The Department of Language Studies at the Univ...</td>\n",
       "      <td>http://uoft.me/how-to-apply | mailto:langstudi...</td>\n",
       "      <td>University of Toronto Mississauga</td>\n",
       "      <td>y</td>\n",
       "      <td>y</td>\n",
       "      <td>TT</td>\n",
       "      <td>http://uoft.me/how-to-apply | mailto:langstudi...</td>\n",
       "      <td>TESOL_/_Applied_Linguistics_2013</td>\n",
       "    </tr>\n",
       "    <tr>\n",
       "      <th>9312</th>\n",
       "      <td>See full post at American Studies 2014\\n&lt;span ...</td>\n",
       "      <td></td>\n",
       "      <td>College of William and Mary - Associate Prof. ...</td>\n",
       "      <td></td>\n",
       "      <td>y</td>\n",
       "      <td>Unknown</td>\n",
       "      <td>College of William and Mary - Associate Prof. ...</td>\n",
       "      <td>Theory_2014</td>\n",
       "    </tr>\n",
       "    <tr>\n",
       "      <th>9313</th>\n",
       "      <td>The Department of Rhetoric at the University o...</td>\n",
       "      <td>http://apo.chance.berkeley.edu/evalltr.html | ...</td>\n",
       "      <td>University of California, Berkeley - Tenured A...</td>\n",
       "      <td>y</td>\n",
       "      <td>y</td>\n",
       "      <td>TT</td>\n",
       "      <td>http://apo.chance.berkeley.edu/evalltr.html | ...</td>\n",
       "      <td>Theory_2014</td>\n",
       "    </tr>\n",
       "  </tbody>\n",
       "</table>\n",
       "<p>9314 rows × 8 columns</p>\n",
       "</div>"
      ],
      "text/plain": [
       "                                        section_content  \\\n",
       "0     Adelphi University is seeking applicants for a...   \n",
       "1     Two Tenure-Track Assistant Professor Positions...   \n",
       "2     Bucknell University’s Department of Women’s an...   \n",
       "3     The English Department, within Wilkinson Colle...   \n",
       "4     Posting ID: 16027\\nCategory: Tenure-track\\nDep...   \n",
       "...                                                 ...   \n",
       "9309  The Department of Bicultural-Bilingual Studies...   \n",
       "9310  The Department of Teacher Education and Higher...   \n",
       "9311  The Department of Language Studies at the Univ...   \n",
       "9312  See full post at American Studies 2014\\n<span ...   \n",
       "9313  The Department of Rhetoric at the University o...   \n",
       "\n",
       "                                          section_links  \\\n",
       "0              http://www.adelphi.edu/positions/faculty   \n",
       "1                    https://apply.interfolio.com/45917   \n",
       "2     http://careers.bucknell.edu/cw/en-us/job/49379...   \n",
       "3     https://www.indeed.com/viewjob?jk=0988b9d4faed...   \n",
       "4     http://www.claremontmckenna.edu/lit/ | https:/...   \n",
       "...                                                 ...   \n",
       "9309                                                      \n",
       "9310                                                      \n",
       "9311  http://uoft.me/how-to-apply | mailto:langstudi...   \n",
       "9312                                                      \n",
       "9313  http://apo.chance.berkeley.edu/evalltr.html | ...   \n",
       "\n",
       "                                          section_title IsTT IsUni  JobType  \\\n",
       "0     Adelphi University (NY) - TT Assistant Profess...    y     y       TT   \n",
       "1     Beloit College (WI) - TT Asst. Professor - 20t...    y     y       TT   \n",
       "2     Bucknell University (PA) - TT Asst. Professor ...    y     y       TT   \n",
       "3     Chapman University (CA) - TT Asst. Professor i...    y     y       TT   \n",
       "4     Claremont McKenna College (CA) - TT Assistant ...    y     y       TT   \n",
       "...                                                 ...  ...   ...      ...   \n",
       "9309                    University of Texas San Antonio          y  Unknown   \n",
       "9310         University of North Carolina at Greensboro    y     y       TT   \n",
       "9311                  University of Toronto Mississauga    y     y       TT   \n",
       "9312  College of William and Mary - Associate Prof. ...          y  Unknown   \n",
       "9313  University of California, Berkeley - Tenured A...    y     y       TT   \n",
       "\n",
       "                                                  JobID  \\\n",
       "0              http://www.adelphi.edu/positions/faculty   \n",
       "1                    https://apply.interfolio.com/45917   \n",
       "2     http://careers.bucknell.edu/cw/en-us/job/49379...   \n",
       "3     https://www.indeed.com/viewjob?jk=0988b9d4faed...   \n",
       "4     http://www.claremontmckenna.edu/lit/ | https:/...   \n",
       "...                                                 ...   \n",
       "9309                    University of Texas San Antonio   \n",
       "9310         University of North Carolina at Greensboro   \n",
       "9311  http://uoft.me/how-to-apply | mailto:langstudi...   \n",
       "9312  College of William and Mary - Associate Prof. ...   \n",
       "9313  http://apo.chance.berkeley.edu/evalltr.html | ...   \n",
       "\n",
       "                                  page  \n",
       "0               20-21_c._American_2018  \n",
       "1               20-21_c._American_2018  \n",
       "2               20-21_c._American_2018  \n",
       "3               20-21_c._American_2018  \n",
       "4               20-21_c._American_2018  \n",
       "...                                ...  \n",
       "9309  TESOL_/_Applied_Linguistics_2013  \n",
       "9310  TESOL_/_Applied_Linguistics_2013  \n",
       "9311  TESOL_/_Applied_Linguistics_2013  \n",
       "9312                       Theory_2014  \n",
       "9313                       Theory_2014  \n",
       "\n",
       "[9314 rows x 8 columns]"
      ]
     },
     "execution_count": 37,
     "metadata": {},
     "output_type": "execute_result"
    }
   ],
   "source": [
    "# Big data crunching step!\n",
    "df_data=get_all_data()\n",
    "df_data"
   ]
  },
  {
   "cell_type": "markdown",
   "metadata": {
    "id": "6sR50p2s34ww"
   },
   "source": [
    "## Step 5: Postprocessing"
   ]
  },
  {
   "cell_type": "code",
   "execution_count": 38,
   "metadata": {
    "id": "_ga10-dayyc0"
   },
   "outputs": [
    {
     "data": {
      "text/html": [
       "<div>\n",
       "<style scoped>\n",
       "    .dataframe tbody tr th:only-of-type {\n",
       "        vertical-align: middle;\n",
       "    }\n",
       "\n",
       "    .dataframe tbody tr th {\n",
       "        vertical-align: top;\n",
       "    }\n",
       "\n",
       "    .dataframe thead th {\n",
       "        text-align: right;\n",
       "    }\n",
       "</style>\n",
       "<table border=\"1\" class=\"dataframe\">\n",
       "  <thead>\n",
       "    <tr style=\"text-align: right;\">\n",
       "      <th></th>\n",
       "      <th>disc_page</th>\n",
       "      <th>year</th>\n",
       "      <th>page</th>\n",
       "      <th>page_group</th>\n",
       "      <th>section_content</th>\n",
       "      <th>section_links</th>\n",
       "      <th>section_title</th>\n",
       "      <th>IsTT</th>\n",
       "      <th>IsUni</th>\n",
       "      <th>JobType</th>\n",
       "      <th>JobID</th>\n",
       "    </tr>\n",
       "  </thead>\n",
       "  <tbody>\n",
       "    <tr>\n",
       "      <th>0</th>\n",
       "      <td>Rhetoric/Composition 2011</td>\n",
       "      <td>2011</td>\n",
       "      <td>Rhetoric/Composition_Positions_and_Salaries_20...</td>\n",
       "      <td>Rhetoric/Composition Positions and Salaries</td>\n",
       "      <td>Assistant Professor, no tenure institution, So...</td>\n",
       "      <td></td>\n",
       "      <td>Rhet/Comp Positions and Salaries 2011-12</td>\n",
       "      <td>y</td>\n",
       "      <td></td>\n",
       "      <td>TT</td>\n",
       "      <td>Rhet/Comp Positions and Salaries 2011-12</td>\n",
       "    </tr>\n",
       "    <tr>\n",
       "      <th>1</th>\n",
       "      <td>Rhetoric/Composition 2011</td>\n",
       "      <td>2011</td>\n",
       "      <td>Rhetoric/Composition_Positions_and_Salaries_20...</td>\n",
       "      <td>Rhetoric/Composition Positions and Salaries</td>\n",
       "      <td>No one seems to be including gender in his/her...</td>\n",
       "      <td>https://www.wikia.org/ | https://www.wikia.org...</td>\n",
       "      <td>Comments and Questions</td>\n",
       "      <td></td>\n",
       "      <td></td>\n",
       "      <td>Unknown</td>\n",
       "      <td>https://www.wikia.org/ | https://www.wikia.org...</td>\n",
       "    </tr>\n",
       "    <tr>\n",
       "      <th>2</th>\n",
       "      <td>Rhetoric/Composition 2011</td>\n",
       "      <td>2011</td>\n",
       "      <td>Rhetoric/Composition_2011</td>\n",
       "      <td>Rhetoric/Composition</td>\n",
       "      <td>&lt;span class=\"</td>\n",
       "      <td></td>\n",
       "      <td>Rhetoric/Composition Jobs 2011</td>\n",
       "      <td></td>\n",
       "      <td>n</td>\n",
       "      <td>Unknown</td>\n",
       "      <td>Rhetoric/Composition Jobs 2011</td>\n",
       "    </tr>\n",
       "    <tr>\n",
       "      <th>3</th>\n",
       "      <td>Rhetoric/Composition 2011</td>\n",
       "      <td>2011</td>\n",
       "      <td>Rhetoric/Composition_2011</td>\n",
       "      <td>Rhetoric/Composition</td>\n",
       "      <td>Link - first posting on page\\nSubfield/descrip...</td>\n",
       "      <td>http://www.acu.edu/academics/provost/positions...</td>\n",
       "      <td>Abilene Christian University (Abilene, TX)</td>\n",
       "      <td>y</td>\n",
       "      <td>y</td>\n",
       "      <td>TT</td>\n",
       "      <td>http://www.acu.edu/academics/provost/positions...</td>\n",
       "    </tr>\n",
       "    <tr>\n",
       "      <th>4</th>\n",
       "      <td>Rhetoric/Composition 2011</td>\n",
       "      <td>2011</td>\n",
       "      <td>Rhetoric/Composition_2011</td>\n",
       "      <td>Rhetoric/Composition</td>\n",
       "      <td>LINK\\n\"Alfred State College invites applicatio...</td>\n",
       "      <td>http://www.higheredjobs.com/faculty/details.cf...</td>\n",
       "      <td>Alfred State College (NY)</td>\n",
       "      <td>y</td>\n",
       "      <td>y</td>\n",
       "      <td>TT</td>\n",
       "      <td>http://www.higheredjobs.com/faculty/details.cf...</td>\n",
       "    </tr>\n",
       "  </tbody>\n",
       "</table>\n",
       "</div>"
      ],
      "text/plain": [
       "                   disc_page  year  \\\n",
       "0  Rhetoric/Composition 2011  2011   \n",
       "1  Rhetoric/Composition 2011  2011   \n",
       "2  Rhetoric/Composition 2011  2011   \n",
       "3  Rhetoric/Composition 2011  2011   \n",
       "4  Rhetoric/Composition 2011  2011   \n",
       "\n",
       "                                                page  \\\n",
       "0  Rhetoric/Composition_Positions_and_Salaries_20...   \n",
       "1  Rhetoric/Composition_Positions_and_Salaries_20...   \n",
       "2                          Rhetoric/Composition_2011   \n",
       "3                          Rhetoric/Composition_2011   \n",
       "4                          Rhetoric/Composition_2011   \n",
       "\n",
       "                                    page_group  \\\n",
       "0  Rhetoric/Composition Positions and Salaries   \n",
       "1  Rhetoric/Composition Positions and Salaries   \n",
       "2                         Rhetoric/Composition   \n",
       "3                         Rhetoric/Composition   \n",
       "4                         Rhetoric/Composition   \n",
       "\n",
       "                                     section_content  \\\n",
       "0  Assistant Professor, no tenure institution, So...   \n",
       "1  No one seems to be including gender in his/her...   \n",
       "2                                      <span class=\"   \n",
       "3  Link - first posting on page\\nSubfield/descrip...   \n",
       "4  LINK\\n\"Alfred State College invites applicatio...   \n",
       "\n",
       "                                       section_links  \\\n",
       "0                                                      \n",
       "1  https://www.wikia.org/ | https://www.wikia.org...   \n",
       "2                                                      \n",
       "3  http://www.acu.edu/academics/provost/positions...   \n",
       "4  http://www.higheredjobs.com/faculty/details.cf...   \n",
       "\n",
       "                                section_title IsTT IsUni  JobType  \\\n",
       "0    Rhet/Comp Positions and Salaries 2011-12    y             TT   \n",
       "1                      Comments and Questions             Unknown   \n",
       "2              Rhetoric/Composition Jobs 2011          n  Unknown   \n",
       "3  Abilene Christian University (Abilene, TX)    y     y       TT   \n",
       "4                   Alfred State College (NY)    y     y       TT   \n",
       "\n",
       "                                               JobID  \n",
       "0           Rhet/Comp Positions and Salaries 2011-12  \n",
       "1  https://www.wikia.org/ | https://www.wikia.org...  \n",
       "2                     Rhetoric/Composition Jobs 2011  \n",
       "3  http://www.acu.edu/academics/provost/positions...  \n",
       "4  http://www.higheredjobs.com/faculty/details.cf...  "
      ]
     },
     "execution_count": 38,
     "metadata": {},
     "output_type": "execute_result"
    }
   ],
   "source": [
    "df = df_pages.merge(df_data,on='page') #.merge(df_aliases,on='page_group')\n",
    "df[:5]"
   ]
  },
  {
   "cell_type": "markdown",
   "metadata": {},
   "source": [
    "### Sanity checks"
   ]
  },
  {
   "cell_type": "code",
   "execution_count": 39,
   "metadata": {},
   "outputs": [
    {
     "data": {
      "text/plain": [
       "0       Rhetoric/Composition Positions and Salaries\n",
       "1       Rhetoric/Composition Positions and Salaries\n",
       "2                              Rhetoric/Composition\n",
       "3                              Rhetoric/Composition\n",
       "4                              Rhetoric/Composition\n",
       "                           ...                     \n",
       "9309                           Rhetoric/Composition\n",
       "9310                           Rhetoric/Composition\n",
       "9311                           Rhetoric/Composition\n",
       "9312                           Rhetoric/Composition\n",
       "9313                           Rhetoric/Composition\n",
       "Name: page_group, Length: 9314, dtype: object"
      ]
     },
     "execution_count": 39,
     "metadata": {},
     "output_type": "execute_result"
    }
   ],
   "source": [
    "# df[(df.page_group=='Rhetoric/Composition') & (df.year==2020)]\n",
    "df.page_group"
   ]
  },
  {
   "cell_type": "code",
   "execution_count": 40,
   "metadata": {},
   "outputs": [
    {
     "data": {
      "text/html": [
       "<div>\n",
       "<style scoped>\n",
       "    .dataframe tbody tr th:only-of-type {\n",
       "        vertical-align: middle;\n",
       "    }\n",
       "\n",
       "    .dataframe tbody tr th {\n",
       "        vertical-align: top;\n",
       "    }\n",
       "\n",
       "    .dataframe thead th {\n",
       "        text-align: right;\n",
       "    }\n",
       "</style>\n",
       "<table border=\"1\" class=\"dataframe\">\n",
       "  <thead>\n",
       "    <tr style=\"text-align: right;\">\n",
       "      <th></th>\n",
       "      <th>disc_page</th>\n",
       "      <th>year</th>\n",
       "      <th>page</th>\n",
       "      <th>page_group</th>\n",
       "      <th>section_content</th>\n",
       "      <th>section_links</th>\n",
       "      <th>section_title</th>\n",
       "      <th>IsTT</th>\n",
       "      <th>IsUni</th>\n",
       "      <th>JobType</th>\n",
       "      <th>JobID</th>\n",
       "    </tr>\n",
       "  </thead>\n",
       "  <tbody>\n",
       "    <tr>\n",
       "      <th>2</th>\n",
       "      <td>Rhetoric/Composition 2011</td>\n",
       "      <td>2011</td>\n",
       "      <td>Rhetoric/Composition_2011</td>\n",
       "      <td>Rhetoric/Composition</td>\n",
       "      <td>&lt;span class=\"</td>\n",
       "      <td></td>\n",
       "      <td>Rhetoric/Composition Jobs 2011</td>\n",
       "      <td></td>\n",
       "      <td>n</td>\n",
       "      <td>Unknown</td>\n",
       "      <td>Rhetoric/Composition Jobs 2011</td>\n",
       "    </tr>\n",
       "    <tr>\n",
       "      <th>3</th>\n",
       "      <td>Rhetoric/Composition 2011</td>\n",
       "      <td>2011</td>\n",
       "      <td>Rhetoric/Composition_2011</td>\n",
       "      <td>Rhetoric/Composition</td>\n",
       "      <td>Link - first posting on page\\nSubfield/descrip...</td>\n",
       "      <td>http://www.acu.edu/academics/provost/positions...</td>\n",
       "      <td>Abilene Christian University (Abilene, TX)</td>\n",
       "      <td>y</td>\n",
       "      <td>y</td>\n",
       "      <td>TT</td>\n",
       "      <td>http://www.acu.edu/academics/provost/positions...</td>\n",
       "    </tr>\n",
       "    <tr>\n",
       "      <th>4</th>\n",
       "      <td>Rhetoric/Composition 2011</td>\n",
       "      <td>2011</td>\n",
       "      <td>Rhetoric/Composition_2011</td>\n",
       "      <td>Rhetoric/Composition</td>\n",
       "      <td>LINK\\n\"Alfred State College invites applicatio...</td>\n",
       "      <td>http://www.higheredjobs.com/faculty/details.cf...</td>\n",
       "      <td>Alfred State College (NY)</td>\n",
       "      <td>y</td>\n",
       "      <td>y</td>\n",
       "      <td>TT</td>\n",
       "      <td>http://www.higheredjobs.com/faculty/details.cf...</td>\n",
       "    </tr>\n",
       "    <tr>\n",
       "      <th>5</th>\n",
       "      <td>Rhetoric/Composition 2011</td>\n",
       "      <td>2011</td>\n",
       "      <td>Rhetoric/Composition_2011</td>\n",
       "      <td>Rhetoric/Composition</td>\n",
       "      <td>From MLA JIL (11/05)\\nThe Department of Englis...</td>\n",
       "      <td>mailto:as_dean@aub.edu.lb | http://www.aub.edu...</td>\n",
       "      <td>American University of Beirut</td>\n",
       "      <td></td>\n",
       "      <td>y</td>\n",
       "      <td>Unknown</td>\n",
       "      <td>mailto:as_dean@aub.edu.lb | http://www.aub.edu...</td>\n",
       "    </tr>\n",
       "    <tr>\n",
       "      <th>6</th>\n",
       "      <td>Rhetoric/Composition 2011</td>\n",
       "      <td>2011</td>\n",
       "      <td>Rhetoric/Composition_2011</td>\n",
       "      <td>Rhetoric/Composition</td>\n",
       "      <td>Link\\nSubfield/description: 'The Department of...</td>\n",
       "      <td>http://www.higheredjobs.com/search/details.cfm...</td>\n",
       "      <td>Angelo State University (San Angelo, TX)</td>\n",
       "      <td>y</td>\n",
       "      <td>y</td>\n",
       "      <td>TT</td>\n",
       "      <td>http://www.higheredjobs.com/search/details.cfm...</td>\n",
       "    </tr>\n",
       "    <tr>\n",
       "      <th>...</th>\n",
       "      <td>...</td>\n",
       "      <td>...</td>\n",
       "      <td>...</td>\n",
       "      <td>...</td>\n",
       "      <td>...</td>\n",
       "      <td>...</td>\n",
       "      <td>...</td>\n",
       "      <td>...</td>\n",
       "      <td>...</td>\n",
       "      <td>...</td>\n",
       "      <td>...</td>\n",
       "    </tr>\n",
       "    <tr>\n",
       "      <th>9309</th>\n",
       "      <td>Rhetoric/Composition 2020</td>\n",
       "      <td>2020</td>\n",
       "      <td>Rhetoric/Composition_2020</td>\n",
       "      <td>Rhetoric/Composition</td>\n",
       "      <td>The Department of English invites applications...</td>\n",
       "      <td>https://www.pacificu.edu/academics/academic-re...</td>\n",
       "      <td>Pacific University (USA:OR) - Visiting Assista...</td>\n",
       "      <td>n</td>\n",
       "      <td>y</td>\n",
       "      <td>Non-TT</td>\n",
       "      <td>https://www.pacificu.edu/academics/academic-re...</td>\n",
       "    </tr>\n",
       "    <tr>\n",
       "      <th>9310</th>\n",
       "      <td>Rhetoric/Composition 2020</td>\n",
       "      <td>2020</td>\n",
       "      <td>Rhetoric/Composition_2020</td>\n",
       "      <td>Rhetoric/Composition</td>\n",
       "      <td>The Department of English and Writing within t...</td>\n",
       "      <td></td>\n",
       "      <td>University of Tampa (USA:FL) - Professor of In...</td>\n",
       "      <td>n</td>\n",
       "      <td>y</td>\n",
       "      <td>Non-TT</td>\n",
       "      <td>University of Tampa (USA:FL) - Professor of In...</td>\n",
       "    </tr>\n",
       "    <tr>\n",
       "      <th>9311</th>\n",
       "      <td>Rhetoric/Composition 2020</td>\n",
       "      <td>2020</td>\n",
       "      <td>Rhetoric/Composition_2020</td>\n",
       "      <td>Rhetoric/Composition</td>\n",
       "      <td>Location: Multiple Countries\\nType: SeasonalMi...</td>\n",
       "      <td></td>\n",
       "      <td>Field Instructor, Rhetoric And Composition</td>\n",
       "      <td>n</td>\n",
       "      <td>y</td>\n",
       "      <td>Non-TT</td>\n",
       "      <td>Field Instructor, Rhetoric And Composition</td>\n",
       "    </tr>\n",
       "    <tr>\n",
       "      <th>9312</th>\n",
       "      <td>Rhetoric/Composition 2020</td>\n",
       "      <td>2020</td>\n",
       "      <td>Rhetoric/Composition_2020</td>\n",
       "      <td>Rhetoric/Composition</td>\n",
       "      <td>The Department of English Language and Literat...</td>\n",
       "      <td>https://jobs.weber.edu/postings/9890</td>\n",
       "      <td>Weber State University (USA:UT) - Visiting Ass...</td>\n",
       "      <td>n</td>\n",
       "      <td>y</td>\n",
       "      <td>Non-TT</td>\n",
       "      <td>https://jobs.weber.edu/postings/9890</td>\n",
       "    </tr>\n",
       "    <tr>\n",
       "      <th>9313</th>\n",
       "      <td>Rhetoric/Composition 2020</td>\n",
       "      <td>2020</td>\n",
       "      <td>Rhetoric/Composition_2020</td>\n",
       "      <td>Rhetoric/Composition</td>\n",
       "      <td>The Department of English at Virginia Tech inv...</td>\n",
       "      <td>http://careers.pageuppeople.com/968/cw/en-us/j...</td>\n",
       "      <td>Virginia Tech (USA:VA) - Instructor of Technic...</td>\n",
       "      <td>n</td>\n",
       "      <td>y</td>\n",
       "      <td>Non-TT</td>\n",
       "      <td>http://careers.pageuppeople.com/968/cw/en-us/j...</td>\n",
       "    </tr>\n",
       "  </tbody>\n",
       "</table>\n",
       "<p>9288 rows × 11 columns</p>\n",
       "</div>"
      ],
      "text/plain": [
       "                      disc_page  year                       page  \\\n",
       "2     Rhetoric/Composition 2011  2011  Rhetoric/Composition_2011   \n",
       "3     Rhetoric/Composition 2011  2011  Rhetoric/Composition_2011   \n",
       "4     Rhetoric/Composition 2011  2011  Rhetoric/Composition_2011   \n",
       "5     Rhetoric/Composition 2011  2011  Rhetoric/Composition_2011   \n",
       "6     Rhetoric/Composition 2011  2011  Rhetoric/Composition_2011   \n",
       "...                         ...   ...                        ...   \n",
       "9309  Rhetoric/Composition 2020  2020  Rhetoric/Composition_2020   \n",
       "9310  Rhetoric/Composition 2020  2020  Rhetoric/Composition_2020   \n",
       "9311  Rhetoric/Composition 2020  2020  Rhetoric/Composition_2020   \n",
       "9312  Rhetoric/Composition 2020  2020  Rhetoric/Composition_2020   \n",
       "9313  Rhetoric/Composition 2020  2020  Rhetoric/Composition_2020   \n",
       "\n",
       "                page_group                                    section_content  \\\n",
       "2     Rhetoric/Composition                                      <span class=\"   \n",
       "3     Rhetoric/Composition  Link - first posting on page\\nSubfield/descrip...   \n",
       "4     Rhetoric/Composition  LINK\\n\"Alfred State College invites applicatio...   \n",
       "5     Rhetoric/Composition  From MLA JIL (11/05)\\nThe Department of Englis...   \n",
       "6     Rhetoric/Composition  Link\\nSubfield/description: 'The Department of...   \n",
       "...                    ...                                                ...   \n",
       "9309  Rhetoric/Composition  The Department of English invites applications...   \n",
       "9310  Rhetoric/Composition  The Department of English and Writing within t...   \n",
       "9311  Rhetoric/Composition  Location: Multiple Countries\\nType: SeasonalMi...   \n",
       "9312  Rhetoric/Composition  The Department of English Language and Literat...   \n",
       "9313  Rhetoric/Composition  The Department of English at Virginia Tech inv...   \n",
       "\n",
       "                                          section_links  \\\n",
       "2                                                         \n",
       "3     http://www.acu.edu/academics/provost/positions...   \n",
       "4     http://www.higheredjobs.com/faculty/details.cf...   \n",
       "5     mailto:as_dean@aub.edu.lb | http://www.aub.edu...   \n",
       "6     http://www.higheredjobs.com/search/details.cfm...   \n",
       "...                                                 ...   \n",
       "9309  https://www.pacificu.edu/academics/academic-re...   \n",
       "9310                                                      \n",
       "9311                                                      \n",
       "9312               https://jobs.weber.edu/postings/9890   \n",
       "9313  http://careers.pageuppeople.com/968/cw/en-us/j...   \n",
       "\n",
       "                                          section_title IsTT IsUni  JobType  \\\n",
       "2                        Rhetoric/Composition Jobs 2011          n  Unknown   \n",
       "3            Abilene Christian University (Abilene, TX)    y     y       TT   \n",
       "4                             Alfred State College (NY)    y     y       TT   \n",
       "5                         American University of Beirut          y  Unknown   \n",
       "6              Angelo State University (San Angelo, TX)    y     y       TT   \n",
       "...                                                 ...  ...   ...      ...   \n",
       "9309  Pacific University (USA:OR) - Visiting Assista...    n     y   Non-TT   \n",
       "9310  University of Tampa (USA:FL) - Professor of In...    n     y   Non-TT   \n",
       "9311         Field Instructor, Rhetoric And Composition    n     y   Non-TT   \n",
       "9312  Weber State University (USA:UT) - Visiting Ass...    n     y   Non-TT   \n",
       "9313  Virginia Tech (USA:VA) - Instructor of Technic...    n     y   Non-TT   \n",
       "\n",
       "                                                  JobID  \n",
       "2                        Rhetoric/Composition Jobs 2011  \n",
       "3     http://www.acu.edu/academics/provost/positions...  \n",
       "4     http://www.higheredjobs.com/faculty/details.cf...  \n",
       "5     mailto:as_dean@aub.edu.lb | http://www.aub.edu...  \n",
       "6     http://www.higheredjobs.com/search/details.cfm...  \n",
       "...                                                 ...  \n",
       "9309  https://www.pacificu.edu/academics/academic-re...  \n",
       "9310  University of Tampa (USA:FL) - Professor of In...  \n",
       "9311         Field Instructor, Rhetoric And Composition  \n",
       "9312               https://jobs.weber.edu/postings/9890  \n",
       "9313  http://careers.pageuppeople.com/968/cw/en-us/j...  \n",
       "\n",
       "[9288 rows x 11 columns]"
      ]
     },
     "execution_count": 40,
     "metadata": {},
     "output_type": "execute_result"
    }
   ],
   "source": [
    "df = df[~df.page_group.str.contains('Salaries')]\n",
    "df"
   ]
  },
  {
   "cell_type": "code",
   "execution_count": 41,
   "metadata": {
    "colab": {
     "base_uri": "https://localhost:8080/"
    },
    "id": "DIx7EIgt_toO",
    "outputId": "078e24c9-9d3e-4011-8dac-7bc7e45f3975"
   },
   "outputs": [
    {
     "data": {
      "text/plain": [
       "y    8876\n",
       "      277\n",
       "n     135\n",
       "Name: IsUni, dtype: int64"
      ]
     },
     "execution_count": 41,
     "metadata": {},
     "output_type": "execute_result"
    }
   ],
   "source": [
    "df.IsUni.value_counts()"
   ]
  },
  {
   "cell_type": "code",
   "execution_count": 42,
   "metadata": {},
   "outputs": [
    {
     "data": {
      "text/plain": [
       "76                                                 M.I.T.\n",
       "220                                  Job Listings 2010-11\n",
       "221                                      Poetry Positions\n",
       "405                                 AWP Interviews - Open\n",
       "408                             Creative Writing Salaries\n",
       "                              ...                        \n",
       "9193                             Other Germanic Languages\n",
       "9227                                               Other:\n",
       "9260    Preliminary interview scheduled (please specif...\n",
       "9262                                       Qualifications\n",
       "9264                                       Qualifications\n",
       "Name: section_title, Length: 277, dtype: object"
      ]
     },
     "execution_count": 42,
     "metadata": {},
     "output_type": "execute_result"
    }
   ],
   "source": [
    "df[df.IsUni==''].section_title"
   ]
  },
  {
   "cell_type": "code",
   "execution_count": 43,
   "metadata": {
    "colab": {
     "base_uri": "https://localhost:8080/"
    },
    "id": "frTMJdoKxr2c",
    "outputId": "31a0301f-cf02-4ca6-e994-69715a4c1680"
   },
   "outputs": [
    {
     "data": {
      "text/plain": [
       "y    6929\n",
       "     1197\n",
       "n    1162\n",
       "Name: IsTT, dtype: int64"
      ]
     },
     "execution_count": 43,
     "metadata": {},
     "output_type": "execute_result"
    }
   ],
   "source": [
    "df.IsTT.value_counts()"
   ]
  },
  {
   "cell_type": "code",
   "execution_count": 44,
   "metadata": {
    "colab": {
     "base_uri": "https://localhost:8080/"
    },
    "id": "N1Ke0KYKCQeW",
    "outputId": "5aac5383-ba1d-4d92-b373-570278378cd9"
   },
   "outputs": [
    {
     "data": {
      "text/plain": [
       "TT         6929\n",
       "Non-TT     1150\n",
       "Unknown    1088\n",
       "Postdoc     121\n",
       "Name: JobType, dtype: int64"
      ]
     },
     "execution_count": 44,
     "metadata": {},
     "output_type": "execute_result"
    }
   ],
   "source": [
    "df.JobType.value_counts()"
   ]
  },
  {
   "cell_type": "code",
   "execution_count": 45,
   "metadata": {
    "id": "2MhPGQRJ7XLK"
   },
   "outputs": [],
   "source": [
    "date=f'{now.year}-{now.month}-{now.day}'\n",
    "ofn=f'data.jobcensus.rc.wiki.{date}.csv'\n",
    "df.to_csv(ofn,index=False)"
   ]
  },
  {
   "cell_type": "code",
   "execution_count": null,
   "metadata": {},
   "outputs": [],
   "source": []
  }
 ],
 "metadata": {
  "colab": {
   "collapsed_sections": [],
   "name": "JobCensus2020.ipynb",
   "provenance": []
  },
  "kernelspec": {
   "display_name": "Python 3",
   "language": "python",
   "name": "python3"
  },
  "language_info": {
   "codemirror_mode": {
    "name": "ipython",
    "version": 3
   },
   "file_extension": ".py",
   "mimetype": "text/x-python",
   "name": "python",
   "nbconvert_exporter": "python",
   "pygments_lexer": "ipython3",
   "version": "3.6.5"
  },
  "widgets": {
   "application/vnd.jupyter.widget-state+json": {
    "state": {},
    "version_major": 2,
    "version_minor": 0
   }
  }
 },
 "nbformat": 4,
 "nbformat_minor": 4
}
